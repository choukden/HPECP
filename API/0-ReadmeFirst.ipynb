{
 "cells": [
  {
   "cell_type": "markdown",
   "metadata": {},
   "source": [
    "![enter image description here](https://developer.hpe.com/img/hpe-dev-logo-mark-anim.svg?1580730675069 \"HPE DEV Hack Shack\")\n",
    "\n",
    "# Hack Shack\n",
    "Powered by [HPE DEV Team](https://hpedev.io)\n",
    "\n",
    "# Speaker: Denis Choukroun\n",
    "\n",
    "\n",
    "# Introduction to the HPE Container Platform REST API hands-on workshop\n",
    "HPE Container Platform (HPE CP) uses container technology to make it simpler and more cost-effective to deploy and manage not only cloud-native stateless applications but also non-cloud-native distributed stateful applications for machine learning, deep learning, and big data analytics use cases.\n",
    "\n",
    "This workshop focuses on how developers and data scientist users can interact with HPE CP programmatically through REST API, to accelerate their application deployment on containers. The workshops does not cover how to perform IT administrative tasks through REST API.\n",
    "\n",
    "You will get started with some fundamental knowledge about the HPE Container Platform’s REST API.  As tenant user, you will learn how to perform authentication. You will then explore how to launch programmatically cloud-native stateless applications and non-cloud-native distributed multi-node applications for Artificial Intelligence and data analytics use cases, and how to interpret and respond to the status of your REST API calls. By the end of the workshop, you will have deployed a TensorFlow application framework and other simple stateless applications using the REST API, and connect to your applications. \n",
    "\n",
    "# Lab Flow\n",
    "HackShack Labs and Open labs are delivered through a central point that allows a portable, dynamic version of the lab guides. Indeed, rather than using standard PDF files that always ends in copy / paste errors from the lab guide into the Windows terminal server sessions, we decided this year to innovate and introduce a brand new infrastructure. We will therefore leverage a jupyterhub server on which all the different labs guides will be stored in a notebook format (*.ipynb). These Notebooks are accessible from the internet for this event.\n",
    "\n",
    "The notebooks can be downloaded on to your own laptop for further usage or edition. In order to use  them, you will need to install the jupyter notebook application available [here](https://jupyter.org/install).\n",
    "\n",
    "Please now listen to the instructor guidelines on how to use jupyter and follow the different steps.\n",
    "\n",
    "Happy labs ! :-)\n",
    "\n",
    "# Documentation and Tools\n",
    "REST API documentation for HPE Container Platform is accessible from an HPE Container Platform deployment.\n",
    "\n",
    "In the notebook we'll primarily use cURL (Command-Line URL) to make REST API calls. cURL is the universal and well appreciated utility in the Linux community.\n",
    "\n",
    "Although the hands-on lab exercises have been designed to run independently, it is recommended to proceed in the order below. \n",
    "\n",
    "# Lab 1: Intro and Authentication to the REST API\n",
    "In this intro you will connnect to the REST API endpoint and retrieve an authentication session token to use for subsequent requests.\n",
    "\n",
    "* [Lab 1](1-WKSHP-HPECP-IntroAndAuth.ipynb)\n",
    "\n",
    "# Lab 2: Deploying AI/Analytics applications using REST API - Big Data, AI/ML tenants\n",
    "As big data, AI/ML tenant user, you will deploy programmatically through REST API calls, distributed multi-node stateful applications for AI/ML and data analytics (for example TensorFlow) using pre-configured docker-based container images available in the HPE Container Platform Application Store. \n",
    "\n",
    "* [Lab 2](2-WKSHP-HPECP-DeployApp-AIML-Tenant.ipynb)\n",
    "\n",
    "# Lab 3: Deploying cloud-native and non-cloud-native applications using REST API - Kubernetes tenants\n",
    "As Kubernetes tenant users, you will deploy using REST API, both cloud-native stateless microservices applications, and non-cloud-native distributed stateful AI/analytics **KubeDirector** applications on Kubernetes cluster managed by HPE Container Platform. You will then use kubectl to interact directly with the Kubernetes cluster in the context of your tenant user.\n",
    "\n",
    "* [Lab 3](3-WKSHP-HPECP-DeployApp-K8S-Tenant.ipynb)\n",
    "\n",
    "# Earn a chance to win a Canakit Raspberry Pi\n",
    "[Join the HPE DEV Community by signing up to the HPE DEV Newsletter](https://developer.hpe.com/event/aspire-us-2020?listid=11646955)\n",
    "\n",
    "# Join the HPE DEV Commmunity - scan the QRCode below\n",
    "![QRCode](Pictures/QRCode-HPEDEV.png)\n",
    "\n",
    "# Thank You!\n",
    "![grommet.JPG](../Pictures/grommet.JPG)\n",
    "\n"
   ]
  }
 ],
 "metadata": {
  "kernelspec": {
   "display_name": "Python 3",
   "language": "python",
   "name": "python3"
  },
  "language_info": {
   "codemirror_mode": {
    "name": "ipython",
    "version": 3
   },
   "file_extension": ".py",
   "mimetype": "text/x-python",
   "name": "python",
   "nbconvert_exporter": "python",
   "pygments_lexer": "ipython3",
   "version": "3.6.9"
  }
 },
 "nbformat": 4,
 "nbformat_minor": 4
}
