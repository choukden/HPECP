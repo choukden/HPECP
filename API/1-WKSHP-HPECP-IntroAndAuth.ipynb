{
 "cells": [
  {
   "cell_type": "markdown",
   "metadata": {},
   "source": [
    "# HPE Container Platform API series - Lab 1\n",
    "## Getting starting with the HPE Container Platform REST API - Session Authentication\n",
    "\n",
    "\n",
    "**Requirements:**\n",
    "- HPE Container Platform deployment\n",
    "- IP address or FQDN of the HPE Container Platform's controller host and Gateway host\n",
    "- a tenant user account   \n",
    "\n",
    "**Recommended workshop and blog:**\n",
    "- Understanding API basics and the value they provide (session ID: HACK-HSW1). \n",
    "- You can also check out the [Understanding API basics and the value they provide](https://developer.hpe.com/blog/understanding-api-basics-and-the-value-they-provide) blog on HPE Developer Community portal.\n",
    "\n",
    "**Utilities:**   \n",
    "- Postman, cURL  \n",
    "- Jupyter Notebook server with bash kernel installed\n",
    "\n",
    "**Definitions:**\n",
    "**Definitions:**\n",
    "- *HPE Container Platform* is an enterprise-grade container platform designed to deploy both cloud-native and non-cloud-native applications whether on-premises, at the edge, in multiple public clouds, or in a hybrid model. This makes the HPE Container Platform ideal for helping enterprise customers accelerate their application development and deployment on **containers**, on-demand through a self-service portal and a RESTful API that surfaces programmable access. To learn more about HPE Container Platform visit the [HPE DEV portal](https://developer.hpe.com) and check out the blog articles.\n",
    "\n",
    "- *tenant:* A tenant is a group of users created by the platform administrator. A tenant can represent for example, an office location, a business unit, an organization, or a project. A tenant is allocated a quota of resources (CPU, GPU, memory, storage, and Kubernetes clusters resources) by the platform administrator. All the resources used by a tenant are not shared with other tenants. A tenant user is granted the role of member or admin for the tenant.\n"
   ]
  },
  {
   "cell_type": "markdown",
   "metadata": {},
   "source": [
    "## The HPE Container Platform API Reference\n",
    "The HPE CP REST API allows you to achieve multiple actions programmatically, from performing administrative tasks, creating Kubernetes clusters to deploying applications for various use cases in a shared multi-tenant environment.\n",
    "\n",
    "Before you can call the HPE Container Platform API, you need to know what calls can be placed. The REST API reference documentation describes each object type, along with the supported operations, request input parameters, response model and response codes. \n",
    "To access the REST API reference documentation, obtain the IP address or hostname of the current active HPE Container Platform controller host or Gateway host from the administrator of the platform. Then in a web browser, navigate to the following URL:\n",
    "\n",
    "``` \n",
    "http(s)://[Gateway-or-Controller-IP-address-fqdn]/apidocs\n",
    "```\n",
    "Accessing the HPE Container Platform API reference documentation varies depending on whether your platform has been configured to use HTTPS secure protocol or non-secure HTTP protocol.\n",
    "\n",
    "All the REST API calls are in the form: \n",
    "``` \n",
    "An HTTP VERB such as GET , POST, DELETE, PUT, PATCH, UPDATE. \n",
    "\n",
    "A target API object URL: \n",
    "http(s)://[Gateway-IP-address-or-fqdn]:8080/api/v2/[object]\n",
    "\n",
    "```\n",
    "\n",
    "## Session Authentication in a multi-tenant environment\n",
    "With the exception of some API calls, most of the REST API calls you can do against the HPE Container Platform API requires authentication. HPE Container Platform uses a *‘session location’* to use as operation context. In a multi-tenant environment, you request an authentication session location by issuing an authentication request in the following form:\n",
    "* Call the API to request (POST) a new login session, providing username/password credentials as well as the Tenant name in the JSON body. The user must be a valid tenant user credentials with a role (member or admin) in the requested tenant. \n",
    "* Extract the resource path of the created *session location* object from the JSON response header,\n",
    "* For each subsequent call, set a new HTTP Header with its key set to **X-BDS-SESSION** and its value set to the session location value and used as the *working tenant* context.  \n",
    "\n",
    "\n",
    "If you are not already familiar with REST API calls and Postman, I encourage you to check out the [Understanding API basics and the value they provide](https://developer.hpe.com/blog/understanding-api-basics-and-the-value-they-provide) blog on HPE Developer Community portal. It explains you REST API concepts such as HTTP verbs you call against the API, the headers, and payloads and how to use Postman to make API calls.  "
   ]
  },
  {
   "cell_type": "markdown",
   "metadata": {},
   "source": [
    "### Using Postman"
   ]
  },
  {
   "cell_type": "markdown",
   "metadata": {},
   "source": [
    "Postman can be used to issue REST API calls to the HPE Container Platform. The following capture shows the information passed by Postman to the API. It is a **POST** operation against **/api/v2/session** to create a session object. The header specifies JSON as the exchange format and the body provides the user credentials and tenant name. The target HPE Container Platform endpoint (the gateway) IP address, the user credentials and tenant name are defined in a group of variables called a Postman *Environment*. These variables typically describe a given target environment and are expected to be set before the API calls. Postman also allows you to extract the session location from the response header and store it in a Postman environment variable for later use. This is accomplished by using a simple JavaScript code as shown in the *Tests* tab. "
   ]
  },
  {
   "cell_type": "markdown",
   "metadata": {},
   "source": [
    "<img src=\"Pictures/HPECP-Postman-post-session.gif\" height=\"800\" width=\"600\" align=\"left\">"
   ]
  },
  {
   "cell_type": "markdown",
   "metadata": {},
   "source": [
    "Save the value of the session _Location_ from the response header above, to use it in all your subsequent API calls. For example, here we call the HPE Container Platform API to verify we can make REST API calls within the tenant working context by fetching information about the session just established."
   ]
  },
  {
   "cell_type": "markdown",
   "metadata": {},
   "source": [
    "<img src=\"Pictures/HPECP-Postman-Get-session.png\" height=\"800\" width=\"600\" align=\"left\">"
   ]
  },
  {
   "cell_type": "markdown",
   "metadata": {},
   "source": [
    "<img src=\"Pictures/HPECP-Postman-Get-session-info-response.png\" height=\"800\" width=\"600\" align=\"left\">"
   ]
  },
  {
   "cell_type": "markdown",
   "metadata": {},
   "source": [
    "Notice the session location will expire after 24 hours (1440 minutes). \n",
    " \n",
    "Let's do the equivalent API call to create the session using cURL. Information on cURL can be found [here](https://curl.haxx.se/)"
   ]
  },
  {
   "cell_type": "markdown",
   "metadata": {},
   "source": [
    "### Using cURL"
   ]
  },
  {
   "cell_type": "markdown",
   "metadata": {},
   "source": [
    "Postman lets you generate snippets of code in various languages that will help you translate Postman queries into your prefered code. You can use the **Code** link under the blue **Send** button to open the *GENERATE CODE SNIPPETS* and select your preferred language. As shown in the picture below, we use this feature to generate the cURL code for the POST query for the authentication session:\n",
    "\n",
    "\n",
    "<img src=\"Pictures/Postman-GTW-Generate-code-snippet.png\" height=\"800\" width=\"600\" align=\"left\">"
   ]
  },
  {
   "cell_type": "markdown",
   "metadata": {},
   "source": [
    "#### Initialize the environment.\n",
    "   \n",
    "**IMPORTANT: Before running the next code cells, please make sure to check/adjust the environment variables below according to your tenant username and password**"
   ]
  },
  {
   "cell_type": "code",
   "execution_count": 1,
   "metadata": {},
   "outputs": [],
   "source": [
    "#\n",
    "# environment variables to be adjusted/verified by the student\n",
    "#\n",
    "username=\"demouser\" # your HPE CP tenant login credentials - username\n",
    "password=\"password\" # your HPE CP tenant login credentials - password\n",
    "#\n",
    "# fixed environment variables setup by the HPE CP Lab administrator\n",
    "#\n",
    "controller_endpoint=\"gateway1.hpedevlab.net:8080\"\n",
    "tenantname=\"K8sHackTenant\""
   ]
  },
  {
   "cell_type": "markdown",
   "metadata": {},
   "source": [
    "#### -1- Authenticate as Tenant user in the specified tenant:"
   ]
  },
  {
   "cell_type": "code",
   "execution_count": 2,
   "metadata": {},
   "outputs": [
    {
     "name": "stdout",
     "output_type": "stream",
     "text": [
      "This is your session location:  /api/v2/session/b0c1b614-ba2d-4817-ba7f-19b4b27399c1\n",
      "b0c1b614-ba2d-4817-ba7f-19b4b27399c1\n"
     ]
    }
   ],
   "source": [
    "sessionlocation=$(curl -k -i -s --request POST \"https://${controller_endpoint}/api/v2/session\" \\\n",
    "--header 'Accept: application/json' \\\n",
    "--header 'Content-Type: application/json' \\\n",
    "--data-raw '{\n",
    "\"name\": \"'\"$username\"'\",\n",
    "\"password\": \"'\"$password\"'\",\n",
    "\"tenant_name\": \"'\"$tenantname\"'\"\n",
    "}' | grep Location | awk '{print $2}' | tr -d '\\r') #we remove any cr that might exist\n",
    "echo \"This is your session location: \" $sessionlocation\n",
    "SessionId=$(echo $sessionlocation | cut -d'/' -f 5) # extract sessionId for later, for logout\n",
    "echo $SessionId"
   ]
  },
  {
   "cell_type": "markdown",
   "metadata": {},
   "source": [
    "#### -2- Making subsequent API calls:\n",
    "For each subsequent call, you must set a new HTTP Header with its key set to **X-BDS-SESSION** and its value set to the session location value. This session token is used as the *working tenant* context. Here you will fetch information about your session you have just established with HPE Container Platform as a tenant user."
   ]
  },
  {
   "cell_type": "code",
   "execution_count": 3,
   "metadata": {},
   "outputs": [
    {
     "name": "stdout",
     "output_type": "stream",
     "text": [
      "\u001b[1;39m{\n",
      "  \u001b[0m\u001b[34;1m\"_links\"\u001b[0m\u001b[1;39m: \u001b[0m\u001b[1;39m{\n",
      "    \u001b[0m\u001b[34;1m\"self\"\u001b[0m\u001b[1;39m: \u001b[0m\u001b[1;39m{\n",
      "      \u001b[0m\u001b[34;1m\"href\"\u001b[0m\u001b[1;39m: \u001b[0m\u001b[0;32m\"/api/v2/session\"\u001b[0m\u001b[1;39m\n",
      "    \u001b[1;39m}\u001b[0m\u001b[1;39m\n",
      "  \u001b[1;39m}\u001b[0m\u001b[1;39m,\n",
      "  \u001b[0m\u001b[34;1m\"session_expiry_minutes\"\u001b[0m\u001b[1;39m: \u001b[0m\u001b[0;39m1440\u001b[0m\u001b[1;39m,\n",
      "  \u001b[0m\u001b[34;1m\"_embedded\"\u001b[0m\u001b[1;39m: \u001b[0m\u001b[1;39m{\n",
      "    \u001b[0m\u001b[34;1m\"sessions\"\u001b[0m\u001b[1;39m: \u001b[0m\u001b[1;39m[\n",
      "      \u001b[1;39m{\n",
      "        \u001b[0m\u001b[34;1m\"_links\"\u001b[0m\u001b[1;39m: \u001b[0m\u001b[1;39m{\n",
      "          \u001b[0m\u001b[34;1m\"self\"\u001b[0m\u001b[1;39m: \u001b[0m\u001b[1;39m{\n",
      "            \u001b[0m\u001b[34;1m\"href\"\u001b[0m\u001b[1;39m: \u001b[0m\u001b[0;32m\"/api/v2/session/b0c1b614-ba2d-4817-ba7f-19b4b27399c1\"\u001b[0m\u001b[1;39m\n",
      "          \u001b[1;39m}\u001b[0m\u001b[1;39m,\n",
      "          \u001b[0m\u001b[34;1m\"all_sessions\"\u001b[0m\u001b[1;39m: \u001b[0m\u001b[1;39m{\n",
      "            \u001b[0m\u001b[34;1m\"href\"\u001b[0m\u001b[1;39m: \u001b[0m\u001b[0;32m\"/api/v2/session\"\u001b[0m\u001b[1;39m\n",
      "          \u001b[1;39m}\u001b[0m\u001b[1;39m\n",
      "        \u001b[1;39m}\u001b[0m\u001b[1;39m,\n",
      "        \u001b[0m\u001b[34;1m\"user\"\u001b[0m\u001b[1;39m: \u001b[0m\u001b[0;32m\"/api/v1/user/60\"\u001b[0m\u001b[1;39m,\n",
      "        \u001b[0m\u001b[34;1m\"user_name\"\u001b[0m\u001b[1;39m: \u001b[0m\u001b[0;32m\"demouser\"\u001b[0m\u001b[1;39m,\n",
      "        \u001b[0m\u001b[34;1m\"tenant\"\u001b[0m\u001b[1;39m: \u001b[0m\u001b[0;32m\"/api/v1/tenant/5\"\u001b[0m\u001b[1;39m,\n",
      "        \u001b[0m\u001b[34;1m\"tenant_name\"\u001b[0m\u001b[1;39m: \u001b[0m\u001b[0;32m\"K8sHackTenant\"\u001b[0m\u001b[1;39m,\n",
      "        \u001b[0m\u001b[34;1m\"role\"\u001b[0m\u001b[1;39m: \u001b[0m\u001b[0;32m\"/api/v1/role/3\"\u001b[0m\u001b[1;39m,\n",
      "        \u001b[0m\u001b[34;1m\"role_name\"\u001b[0m\u001b[1;39m: \u001b[0m\u001b[0;32m\"Member\"\u001b[0m\u001b[1;39m,\n",
      "        \u001b[0m\u001b[34;1m\"expiry\"\u001b[0m\u001b[1;39m: \u001b[0m\u001b[0;32m\"2020-5-10 18:34:04\"\u001b[0m\u001b[1;39m,\n",
      "        \u001b[0m\u001b[34;1m\"expiry_time\"\u001b[0m\u001b[1;39m: \u001b[0m\u001b[0;39m1589128444\u001b[0m\u001b[1;39m,\n",
      "        \u001b[0m\u001b[34;1m\"is_site_admin_view\"\u001b[0m\u001b[1;39m: \u001b[0m\u001b[0;39mfalse\u001b[0m\u001b[1;39m,\n",
      "        \u001b[0m\u001b[34;1m\"is_cluster_superuser\"\u001b[0m\u001b[1;39m: \u001b[0m\u001b[0;39mfalse\u001b[0m\u001b[1;39m\n",
      "      \u001b[1;39m}\u001b[0m\u001b[1;39m\n",
      "    \u001b[1;39m]\u001b[0m\u001b[1;39m\n",
      "  \u001b[1;39m}\u001b[0m\u001b[1;39m\n",
      "\u001b[1;39m}\u001b[0m\n"
     ]
    }
   ],
   "source": [
    "curl -k -s --request GET \"https://${controller_endpoint}/api/v2/session\" \\\n",
    "--header \"X-BDS-SESSION: $sessionlocation\" \\\n",
    "--header 'Accept: application/json' \\\n",
    "--header 'Content-Type: application/json' | jq  #using jq to pretty print the JSON reponse of the API call "
   ]
  },
  {
   "cell_type": "markdown",
   "metadata": {},
   "source": [
    "### -3- Closing your login session:"
   ]
  },
  {
   "cell_type": "markdown",
   "metadata": {},
   "source": [
    "Although session have a time to live (TTL) of 24 hours, it is **best practice** in REST API programming to cleanup and delete those sessions when done. You use a DELETE /api/v2/session/SessionId to achieve this."
   ]
  },
  {
   "cell_type": "code",
   "execution_count": 4,
   "metadata": {},
   "outputs": [
    {
     "name": "stdout",
     "output_type": "stream",
     "text": [
      "HTTP/1.1 204 No Content\n",
      "Access-Control-Allow-Origin: *\n",
      "Content-Length: 0\n",
      "Content-Type: text/plain\n",
      "Date: Sat, 09 May 2020 16:34:12 GMT\n",
      "Server: BlueData EPIC 5.0\n",
      "\n"
     ]
    }
   ],
   "source": [
    "curl -k -i -s --request DELETE \"https://${controller_endpoint}/api/v2/session/${SessionId}\" \\\n",
    "--header \"X-BDS-SESSION: $sessionlocation\" \\\n",
    "--header 'Accept: application/json' \\\n",
    "--header 'Content-Type: application/json'"
   ]
  },
  {
   "cell_type": "markdown",
   "metadata": {},
   "source": [
    "The status *204 No Content* means the session has been deleted."
   ]
  },
  {
   "cell_type": "markdown",
   "metadata": {},
   "source": [
    "## Summary\n",
    "\n",
    "In this tutorial, you learned how to authenticate to the HPE Container Platform API endpoint and retrieve object data by providing the authentication session location in the header."
   ]
  }
 ],
 "metadata": {
  "kernelspec": {
   "display_name": "Bash",
   "language": "bash",
   "name": "bash"
  },
  "language_info": {
   "codemirror_mode": "shell",
   "file_extension": ".sh",
   "mimetype": "text/x-sh",
   "name": "bash"
  }
 },
 "nbformat": 4,
 "nbformat_minor": 4
}
