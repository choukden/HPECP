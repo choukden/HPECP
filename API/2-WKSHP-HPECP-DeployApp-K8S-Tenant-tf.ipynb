{
 "cells": [
  {
   "cell_type": "markdown",
   "metadata": {},
   "source": [
    "# HPE Container Platform API series  - Lab 2\n",
    "## Deploying cloud-native stateless applications and non-cloud-native stateful applications, programmatically on Kubernetes cluster managed by HPE Container Platform.\n",
    "\n",
    "\n",
    "**Requirements:**\n",
    "- HPE Container Platform deployment with a managed Kubernetes cluster\n",
    "- IP address or FQDN of the HPE Container Platform's controller host and Gateway host\n",
    "- a Kubernetes tenant user account   \n",
    "\n",
    "**Utilities:**   \n",
    "- cURL  \n",
    "- Jupyter Notebook server with bash kernel installed\n",
    "- kubectl\n",
    "\n",
    "**Definitions:**\n",
    "- *HPE Container Platform* is an enterprise-grade container platform designed to deploy both cloud-native and non-cloud-native applications whether on-premises, at the edge, in multiple public clouds, or in a hybrid model. This makes the HPE Container Platform ideal for helping application developers and data scientists accelerate their application development and deployment on **containers**, on-demand through a self-service portal and a RESTful API that surfaces programmable access. To learn more about HPE Container Platform visit the [HPE DEV portal](https://developer.hpe.com/platform/hpe-container-platform/home) and check out the blog articles.\n",
    "\n",
    "- *tenant:* A tenant is a group of users created by the platform administrator. A tenant can represent for example, an office location, a business unit, an organization, a project, an application. A tenant is allocated a quota of resources (CPU/GPU, RAM, Storage, App Store images, Kubernetes cluster) by the platform administrator. All the resources used by a tenant are not shared with other tenants. A tenant user is granted the role of member or admin for the tenant.\n"
   ]
  },
  {
   "cell_type": "markdown",
   "metadata": {},
   "source": [
    "**Lab workflow:**\n",
    "\n",
    "In this lab part:\n",
    "\n",
    "1. As tenant user you will first establish a valid login session with HPE CP using HPE CP REST API.\n",
    "\n",
    "2. You will then fetch the Kubeconfig file for your tenant working context using HPE CP REST API.\n",
    "\n",
    "3. Finally, using a K8s API client such as **kubectl** you will deploy a simple cloud-native *stateless*, microservices applications, and a non-cloud-native distributed *stateful* AI/analytics **KubeDirector** application on **Kubernetes** cluster managed by HPE Container Platform. \n",
    "\n",
    "\n",
    ">Note: kubectl has been installed in the JupyterHub server by the IT administrator.\n",
    "\n",
    "- *KubeDirector:* also known as Kubernetes Director, is a key component of HPE Container Platform. KubeDirector is an open source project initiated by HPE (BlueData) that enables the running of non-cloud-native stateful analytics workloads on Kubernetes. In HPE Container Platform, these applications generally refer to a distributed, single-node or multi-node application **virtual cluster**. Each application virtual cluster node runs as **a container** in the HPE Container Platform.\n",
    "\n",
    "- *Stateless application:* Stateless application is an application which does not require persistence of data and application state.\n",
    "\n",
    "- *Stateful application:* A stateful application typically requires persistence of certain mountpoints across application cluster nodes rescheduling, restarts, upgrades, rollbacks. A stateful application can also need persistence of network identity (i.e.: hostname). "
   ]
  },
  {
   "cell_type": "markdown",
   "metadata": {},
   "source": [
    "#### Initialize the environment.\n",
    "\n",
    "**IMPORTANT: Before running the next cells, please make sure to check/adjust the environment variables below according to your Student ID, tenant username and password.**"
   ]
  },
  {
   "cell_type": "code",
   "execution_count": 1,
   "metadata": {},
   "outputs": [],
   "source": [
    "#\n",
    "# environment variables to be adjusted/verified by the student\n",
    "#\n",
    "student=\"denis\" # your Jupyter Notebook student Identifier (i.e.: student<xx>)\n",
    "username=\"demouser\" # your HPE CP tenant login credentials - username \n",
    "password=\"password\" # your HPE CP tenant login credentials - password\n",
    "#\n",
    "# fixed environment variables setup by the HPE CP lab administrator\n",
    "#\n",
    "controller_endpoint=\"gateway1.hpedevlab.net:8080\"\n",
    "controller_host=\"gateway1.hpedevlab.net\"\n",
    "tenantname=\"K8sHackTenant\"\n",
    "k8sClusterId=\"1\"  #this is the K8s Cluster Id provided by the HPE CP admisnistrator and assigned to your K8s tenant.\n",
    "helloWorldApp=\"hello-world-app.yaml\" # the application manifest you will deploy in this lab\n",
    "tensorFlowApp=\"tensorflow-notebook-config-cluster.yaml\" # the kubedirector application cluster configuration TensorFlow"
   ]
  },
  {
   "cell_type": "markdown",
   "metadata": {},
   "source": [
    "#### Authenticate as Tenant user in the specified tenant:"
   ]
  },
  {
   "cell_type": "code",
   "execution_count": 2,
   "metadata": {},
   "outputs": [
    {
     "name": "stdout",
     "output_type": "stream",
     "text": [
      "This is your session location:  /api/v2/session/44d9f376-b8a1-43eb-bf38-cb71451b94df\n",
      "This is your session_Id: 44d9f376-b8a1-43eb-bf38-cb71451b94df\n"
     ]
    }
   ],
   "source": [
    "sessionlocation=$(curl -k -i -s --request POST \"https://${controller_endpoint}/api/v2/session\" \\\n",
    "--header 'Accept: application/json' \\\n",
    "--header 'Content-Type: application/json' \\\n",
    "--data-raw '{\n",
    "\"name\": \"'\"$username\"'\",\n",
    "\"password\": \"'\"$password\"'\",\n",
    "\"tenant_name\": \"'\"$tenantname\"'\"\n",
    "}' | grep Location | awk '{print $2}' | tr -d '\\r') #we remove any cr that might exist\n",
    "echo \"This is your session location: \" $sessionlocation\n",
    "SessionId=$(echo $sessionlocation | cut -d'/' -f 5) # extract sessionId for later, for logout\n",
    "echo \"This is your session_Id:\" $SessionId"
   ]
  },
  {
   "cell_type": "markdown",
   "metadata": {},
   "source": [
    "#### Make a quick check to ensure you can make REST API calls within your tenant working context:\n",
    "Here you will fetch information about your session you have just established."
   ]
  },
  {
   "cell_type": "code",
   "execution_count": 3,
   "metadata": {},
   "outputs": [
    {
     "name": "stdout",
     "output_type": "stream",
     "text": [
      "\u001b[1;39m{\n",
      "  \u001b[0m\u001b[34;1m\"_links\"\u001b[0m\u001b[1;39m: \u001b[0m\u001b[1;39m{\n",
      "    \u001b[0m\u001b[34;1m\"self\"\u001b[0m\u001b[1;39m: \u001b[0m\u001b[1;39m{\n",
      "      \u001b[0m\u001b[34;1m\"href\"\u001b[0m\u001b[1;39m: \u001b[0m\u001b[0;32m\"/api/v2/session/44d9f376-b8a1-43eb-bf38-cb71451b94df\"\u001b[0m\u001b[1;39m\n",
      "    \u001b[1;39m}\u001b[0m\u001b[1;39m,\n",
      "    \u001b[0m\u001b[34;1m\"all_sessions\"\u001b[0m\u001b[1;39m: \u001b[0m\u001b[1;39m{\n",
      "      \u001b[0m\u001b[34;1m\"href\"\u001b[0m\u001b[1;39m: \u001b[0m\u001b[0;32m\"/api/v2/session\"\u001b[0m\u001b[1;39m\n",
      "    \u001b[1;39m}\u001b[0m\u001b[1;39m\n",
      "  \u001b[1;39m}\u001b[0m\u001b[1;39m,\n",
      "  \u001b[0m\u001b[34;1m\"user\"\u001b[0m\u001b[1;39m: \u001b[0m\u001b[0;32m\"/api/v1/user/60\"\u001b[0m\u001b[1;39m,\n",
      "  \u001b[0m\u001b[34;1m\"user_name\"\u001b[0m\u001b[1;39m: \u001b[0m\u001b[0;32m\"demouser\"\u001b[0m\u001b[1;39m,\n",
      "  \u001b[0m\u001b[34;1m\"tenant\"\u001b[0m\u001b[1;39m: \u001b[0m\u001b[0;32m\"/api/v1/tenant/5\"\u001b[0m\u001b[1;39m,\n",
      "  \u001b[0m\u001b[34;1m\"tenant_name\"\u001b[0m\u001b[1;39m: \u001b[0m\u001b[0;32m\"K8sHackTenant\"\u001b[0m\u001b[1;39m,\n",
      "  \u001b[0m\u001b[34;1m\"role\"\u001b[0m\u001b[1;39m: \u001b[0m\u001b[0;32m\"/api/v1/role/3\"\u001b[0m\u001b[1;39m,\n",
      "  \u001b[0m\u001b[34;1m\"role_name\"\u001b[0m\u001b[1;39m: \u001b[0m\u001b[0;32m\"Member\"\u001b[0m\u001b[1;39m,\n",
      "  \u001b[0m\u001b[34;1m\"expiry\"\u001b[0m\u001b[1;39m: \u001b[0m\u001b[0;32m\"2020-5-10 18:36:00\"\u001b[0m\u001b[1;39m,\n",
      "  \u001b[0m\u001b[34;1m\"expiry_time\"\u001b[0m\u001b[1;39m: \u001b[0m\u001b[0;39m1589128560\u001b[0m\u001b[1;39m,\n",
      "  \u001b[0m\u001b[34;1m\"is_site_admin_view\"\u001b[0m\u001b[1;39m: \u001b[0m\u001b[0;39mfalse\u001b[0m\u001b[1;39m,\n",
      "  \u001b[0m\u001b[34;1m\"is_cluster_superuser\"\u001b[0m\u001b[1;39m: \u001b[0m\u001b[0;39mfalse\u001b[0m\u001b[1;39m\n",
      "\u001b[1;39m}\u001b[0m\n"
     ]
    }
   ],
   "source": [
    "curl -k -s --request GET \"https://${controller_endpoint}/api/v2/session/${SessionId}\" \\\n",
    "--header \"X-BDS-SESSION: $sessionlocation\" \\\n",
    "--header 'Accept: application/json' \\\n",
    "--header 'Content-Type: application/json' | jq  #using jq to pretty print the JSON reponse of the API call "
   ]
  },
  {
   "cell_type": "markdown",
   "metadata": {},
   "source": [
    "#### Get the Kubeconfig file for your tenant working context\n",
    "The next step in deploying a containerized application in Kubernetes clusters managed by HPE Container Platform, is to get the kubeconfig file for your tenant working context. \n",
    "\n",
    "The HPE CP REST API call below allows you to get the **kubeconfig file** used to access the Kubernetes cluster for your tenant user account based on your assigned role (tenant member), with the same result as if you had downloaded it from the HPE CP UI."
   ]
  },
  {
   "cell_type": "code",
   "execution_count": 4,
   "metadata": {},
   "outputs": [],
   "source": [
    "curl -k -s --request GET \"https://${controller_endpoint}/api/v2/k8skubeconfig\" \\\n",
    "--header \"X-BDS-SESSION: $sessionlocation\" \\\n",
    "--header 'Accept: application/json' \\\n",
    "--header 'Content-Type: application/json' > ${student}_kubeconfig"
   ]
  },
  {
   "cell_type": "code",
   "execution_count": 5,
   "metadata": {},
   "outputs": [
    {
     "name": "stdout",
     "output_type": "stream",
     "text": [
      "apiVersion: v1\n",
      "clusters:\n",
      "- cluster:\n",
      "    insecure-skip-tls-verify: true\n",
      "    server: https://gateway1.etc.fr.comm.hpecorp.net:9500\n",
      "  name: k8scluster1\n",
      "contexts:\n",
      "- context:\n",
      "    cluster: k8scluster1\n",
      "    user: HPECP-demouser\n",
      "    namespace: k8shacktenant\n",
      "  name: k8scluster1-K8sHackTenant-demouser\n",
      "current-context: k8scluster1-K8sHackTenant-demouser\n",
      "kind: Config\n",
      "preferences: {}\n",
      "users:\n",
      "- name: HPECP-demouser\n",
      "  user:\n",
      "    exec:\n",
      "      command: kubectl\n",
      "      apiVersion: client.authentication.k8s.io/v1beta1\n",
      "      args:\n",
      "      - hpecp\n",
      "      - authenticate\n",
      "      - gateway1.etc.fr.comm.hpecorp.net:8080\n",
      "      - --hpecp-user=demouser\n",
      "      - --hpecp-token=/api/v2/session/44d9f376-b8a1-43eb-bf38-cb71451b94df\n",
      "      - --hpecp-token-expiry=1589128560\n",
      "      - --force-reauth=false\n",
      "      - --insecure-skip-tls-verify=true\n"
     ]
    }
   ],
   "source": [
    "cat ${student}_kubeconfig"
   ]
  },
  {
   "cell_type": "markdown",
   "metadata": {},
   "source": [
    "> Notice the kubeconfig file includes the valid token (session location) for your current session you previously established."
   ]
  },
  {
   "cell_type": "markdown",
   "metadata": {},
   "source": [
    "##### Define the Kubeconfig file as a shell environment variable\n",
    "The kubectl command-line tool (a K8s API client) uses kubeconfig file to communicate with the Kube API server of a Kubernetes cluster. We specify here the path of the kubeconfig file by setting the KUBECONFIG environment variable:"
   ]
  },
  {
   "cell_type": "code",
   "execution_count": 6,
   "metadata": {},
   "outputs": [],
   "source": [
    "#define the Kubeconfig file as a shell environment variable to tell kubectl where to look for the kubeconfig file\n",
    "export KUBECONFIG=\"${student}_kubeconfig\"\n",
    "#echo $KUBECONFIG"
   ]
  },
  {
   "cell_type": "markdown",
   "metadata": {},
   "source": [
    "##### Check your working tenant context"
   ]
  },
  {
   "cell_type": "code",
   "execution_count": 7,
   "metadata": {},
   "outputs": [
    {
     "name": "stdout",
     "output_type": "stream",
     "text": [
      "apiVersion: v1\n",
      "clusters:\n",
      "- cluster:\n",
      "    insecure-skip-tls-verify: true\n",
      "    server: https://gateway1.etc.fr.comm.hpecorp.net:9500\n",
      "  name: k8scluster1\n",
      "contexts:\n",
      "- context:\n",
      "    cluster: k8scluster1\n",
      "    namespace: k8shacktenant\n",
      "    user: HPECP-demouser\n",
      "  name: k8scluster1-K8sHackTenant-demouser\n",
      "current-context: k8scluster1-K8sHackTenant-demouser\n",
      "kind: Config\n",
      "preferences: {}\n",
      "users:\n",
      "- name: HPECP-demouser\n",
      "  user:\n",
      "    exec:\n",
      "      apiVersion: client.authentication.k8s.io/v1beta1\n",
      "      args:\n",
      "      - hpecp\n",
      "      - authenticate\n",
      "      - gateway1.etc.fr.comm.hpecorp.net:8080\n",
      "      - --hpecp-user=demouser\n",
      "      - --hpecp-token=/api/v2/session/44d9f376-b8a1-43eb-bf38-cb71451b94df\n",
      "      - --hpecp-token-expiry=1589128560\n",
      "      - --force-reauth=false\n",
      "      - --insecure-skip-tls-verify=true\n",
      "      command: kubectl\n",
      "      env: null\n"
     ]
    }
   ],
   "source": [
    "kubectl config view"
   ]
  },
  {
   "cell_type": "markdown",
   "metadata": {},
   "source": [
    "You can now send Kubernetes API requests using a K8s API client such as **kubectl** to deploy enterprise workloads to the kubernetes cluster using the privileges assigned to your tenant role. \n",
    "\n",
    ">Note: kubectl has been installed in the JupyterHub server by the IT administrator.\n",
    "\n",
    "**Let's see this in action!**"
   ]
  },
  {
   "cell_type": "markdown",
   "metadata": {},
   "source": [
    "## Deploying a simple cloud-native stateless application"
   ]
  },
  {
   "cell_type": "markdown",
   "metadata": {},
   "source": [
    "#### -1- Deploy Hello World containerized application\n",
    "You will deploy a simple Hello World application on the Kubernetes cluster made available to your tenant. The K8s API call requires the kubectl operation type (create or apply) and the application manifest (YAML file that describes the attributes of the application).  \n",
    "\n",
    "The hello-world application is a **stateless** application because it does not require persistence of data and application state. The hello-world application is a very simple application that will return `Hello Kubernetes!` when accessed. \n",
    "\n",
    "As you are all sharing the same tenant context and Kubernetes cluster resources, let's make sure your application deployment name will be unique among the tenant users. Here we replace the string \"example\" with your \"username\"."
   ]
  },
  {
   "cell_type": "code",
   "execution_count": 8,
   "metadata": {},
   "outputs": [
    {
     "name": "stdout",
     "output_type": "stream",
     "text": [
      "apiVersion: apps/v1\n",
      "kind: Deployment\n",
      "metadata:\n",
      "  name: hello-world-demouser\n",
      "spec:\n",
      "  selector:\n",
      "    matchLabels:\n",
      "      run: hello-demouser\n",
      "  replicas: 2\n",
      "  template:\n",
      "    metadata:\n",
      "      labels:\n",
      "        run: hello-demouser\n",
      "    spec:\n",
      "      containers:\n",
      "        - name: hello-world-demouser\n",
      "          image: gcr.io/google-samples/node-hello:1.0\n",
      "          ports:\n",
      "            - containerPort: 8080\n",
      "              protocol: TCP\n",
      "---\n",
      "apiVersion: v1\n",
      "kind: Service\n",
      "metadata:\n",
      "  name: hello-world-service-demouser\n",
      "spec:\n",
      "  selector:\n",
      "    run: hello-demouser\n",
      "  ports:\n",
      "  - name: http-hello\n",
      "    protocol: TCP\n",
      "    port: 8080\n",
      "    targetPort: 8080\n",
      "  type: NodePort\n"
     ]
    }
   ],
   "source": [
    "sed -i \"s/example/${username}/g\" $helloWorldApp\n",
    "cat $helloWorldApp"
   ]
  },
  {
   "cell_type": "markdown",
   "metadata": {},
   "source": [
    "The YAML file describes the application resources to deploy such as the deployment, the POD, the container image and port, and the NodePort service used to expose the application outside the Kubernetes cluster."
   ]
  },
  {
   "cell_type": "code",
   "execution_count": 9,
   "metadata": {},
   "outputs": [
    {
     "name": "stdout",
     "output_type": "stream",
     "text": [
      "deployment.apps/hello-world-demouser created\n",
      "service/hello-world-service-demouser created\n"
     ]
    }
   ],
   "source": [
    "kubectl apply -f $helloWorldApp"
   ]
  },
  {
   "cell_type": "markdown",
   "metadata": {},
   "source": [
    "After a minute or so, you should get the response message to your K8s API request: *Deployment and service created* on the Kubernetes cluster.   \n",
    "\n",
    "In the next steps, you will use kubectl commands in the context of your tenant user account and get the service endpoints of your application to connect to it."
   ]
  },
  {
   "cell_type": "markdown",
   "metadata": {},
   "source": [
    "#### -2- Get the POD and Services for your deployed application:"
   ]
  },
  {
   "cell_type": "code",
   "execution_count": 10,
   "metadata": {},
   "outputs": [
    {
     "name": "stdout",
     "output_type": "stream",
     "text": [
      "deployment.apps/hello-world-demouser   1/2     2            1           5s\n",
      "pod/hello-world-demouser-54b6fcd974-j9x9b   1/1     Running             0          5s\n",
      "pod/hello-world-demouser-54b6fcd974-nswmf   0/1     ContainerCreating   0          4s\n",
      "service/hello-world-service-demouser   NodePort   10.96.140.179   <none>        8080:31437/TCP   5s\n"
     ]
    }
   ],
   "source": [
    "kubectl get deploy,pod,service | grep ${username}"
   ]
  },
  {
   "cell_type": "code",
   "execution_count": 11,
   "metadata": {},
   "outputs": [
    {
     "name": "stdout",
     "output_type": "stream",
     "text": [
      "Name:                     hello-world-service-demouser\n",
      "Namespace:                k8shacktenant\n",
      "Labels:                   hpecp.hpe.com/hpecp-internal-gateway=true\n",
      "Annotations:              hpecp-internal-gateway/8080: gateway1.etc.fr.comm.hpecorp.net:10002\n",
      "                          kubectl.kubernetes.io/last-applied-configuration:\n",
      "                            {\"apiVersion\":\"v1\",\"kind\":\"Service\",\"metadata\":{\"annotations\":{},\"name\":\"hello-world-service-demouser\",\"namespace\":\"k8shacktenant\"},\"spec\"...\n",
      "Selector:                 run=hello-demouser\n",
      "Type:                     NodePort\n",
      "IP:                       10.96.140.179\n",
      "Port:                     http-hello  8080/TCP\n",
      "TargetPort:               8080/TCP\n",
      "NodePort:                 http-hello  31437/TCP\n",
      "Endpoints:                10.192.0.238:8080,10.192.1.124:8080\n",
      "Session Affinity:         None\n",
      "External Traffic Policy:  Cluster\n",
      "Events:\n",
      "  Type    Reason  Age   From         Message\n",
      "  ----    ------  ----  ----         -------\n",
      "  Normal  HpeCp   6s    hpecp-agent  Created HPECP K8S service\n"
     ]
    }
   ],
   "source": [
    "kubectl describe service hello-world-service-${username}"
   ]
  },
  {
   "cell_type": "markdown",
   "metadata": {},
   "source": [
    "#### -3- Get the service endpoints\n",
    "HPE Container Platform automatically maps the **NodePort Service** endpoint to the HPE Container Platform gateway (proxy) host.\n",
    "Access to application services running in containers is proxied via the gateway host on a publicly-accessible IP address and a port number greater than 10000."
   ]
  },
  {
   "cell_type": "code",
   "execution_count": 12,
   "metadata": {},
   "outputs": [
    {
     "name": "stdout",
     "output_type": "stream",
     "text": [
      "Your application service endpoint is: https://gateway1.etc.fr.comm.hpecorp.net:10002\n"
     ]
    }
   ],
   "source": [
    "myservice=\"hello-world-service-\"${username}\n",
    "appURL=$(kubectl describe service/\"${myservice}\" | grep gateway1 | awk '{print $3}')\n",
    "myapp_endpoint=\"https://${appURL}\"\n",
    "echo \"Your application service endpoint is: \"$myapp_endpoint"
   ]
  },
  {
   "cell_type": "markdown",
   "metadata": {},
   "source": [
    "#### -4- Check your application is responding:"
   ]
  },
  {
   "cell_type": "code",
   "execution_count": 13,
   "metadata": {},
   "outputs": [
    {
     "name": "stdout",
     "output_type": "stream",
     "text": [
      "Hello Kubernetes!"
     ]
    }
   ],
   "source": [
    "curl -k -s \"${myapp_endpoint}\""
   ]
  },
  {
   "cell_type": "markdown",
   "metadata": {},
   "source": [
    "#### -5- Delete your stateless application deployment\n",
    "Delete your application deployment and services using the K8s API request below. The K8s API call requires the kubectl operation type (delete) and the application YAML manifest.\n",
    "After a minute or so, you should get the message: deployment deleted and service deleted."
   ]
  },
  {
   "cell_type": "code",
   "execution_count": 14,
   "metadata": {},
   "outputs": [
    {
     "name": "stdout",
     "output_type": "stream",
     "text": [
      "deployment.apps \"hello-world-demouser\" deleted\n",
      "service \"hello-world-service-demouser\" deleted\n"
     ]
    }
   ],
   "source": [
    "kubectl delete -f $helloWorldApp"
   ]
  },
  {
   "cell_type": "markdown",
   "metadata": {},
   "source": [
    "## Deploying a KubeDirector Application"
   ]
  },
  {
   "cell_type": "markdown",
   "metadata": {},
   "source": [
    "HPE has been working within the open source Kubernetes community to add capabilities that enable the running of **stateful** analytics workloads (e.g: data-intensive, AI/ML and analytics-processing distributed applications) on Kubernetes.  The open source project is known as **Kubernetes Director** or **KubeDirector** for short.   \n",
    "With KubeDirector, enterprises can deploy all their enterprise applications on a common Kubernetes framework.\n",
    "KubeDirector is deployed as a custom controller (aka an operator) by default on every Kubernetes cluster managed by the HPE Container Platform.\n",
    "\n",
    "For more information about KubeDirector, check out the HPE DEV portal [here](https://developer.hpe.com/platform/hpe-container-platform/home)."
   ]
  },
  {
   "cell_type": "markdown",
   "metadata": {},
   "source": [
    "#### -1- List the installed KubeDirector Application\n",
    "In the current release of HPE Container Platform, the Kubernetes clusters managed by HPE Controller platform has three (3) pre-configured KubeDirector Application types installed out of the box. A tenant user who would access the HPE Container Platform portal UI could see it:"
   ]
  },
  {
   "cell_type": "markdown",
   "metadata": {},
   "source": [
    "<img src=\"Pictures/HPECP-KubeDirectorApp-GUI.png\" height=\"800\" width=\"600\" align=\"left\">"
   ]
  },
  {
   "cell_type": "markdown",
   "metadata": {},
   "source": [
    "You can also get the list of KubeDirector Applications using kubectl command:"
   ]
  },
  {
   "cell_type": "code",
   "execution_count": 15,
   "metadata": {},
   "outputs": [
    {
     "name": "stdout",
     "output_type": "stream",
     "text": [
      "NAME                  AGE\n",
      "centos7x              46d\n",
      "ml-jupyter-notebook   46d\n",
      "spark221e2            46d\n"
     ]
    }
   ],
   "source": [
    "kubectl get kubedirectorapp"
   ]
  },
  {
   "cell_type": "markdown",
   "metadata": {},
   "source": [
    "A KubeDirector Application describes an application metadata: the service roles, the service endpoints port and port name prefix (that comes from the URL Scheme), the Docker images, the app setup packages, the cardinality (minimum number of members in a role), and if appropriate, the root file system directories (e.g.: /etc, /bin, /opt, /var, /usr) of the containers to persist beyond the life span of the containers. This means stateful applications that require to write data to their root file systems can now successfully run on Kubernetes. \n",
    "\n",
    "Let's inspect a couple of KubeDirector Application type definitions: "
   ]
  },
  {
   "cell_type": "code",
   "execution_count": 16,
   "metadata": {},
   "outputs": [
    {
     "name": "stdout",
     "output_type": "stream",
     "text": [
      "Name:         ml-jupyter-notebook\n",
      "Namespace:    k8shacktenant\n",
      "Labels:       <none>\n",
      "Annotations:  token:\n",
      "                execute this command to get the authentication token 'kubectl exec <pod-name> jupyter notebook list' and use this token in Jupyter noteboo...\n",
      "API Version:  kubedirector.hpe.com/v1beta1\n",
      "Kind:         KubeDirectorApp\n",
      "Metadata:\n",
      "  Creation Timestamp:  2020-03-24T08:25:15Z\n",
      "  Generation:          2\n",
      "  Resource Version:    2874116\n",
      "  Self Link:           /apis/kubedirector.hpe.com/v1beta1/namespaces/k8shacktenant/kubedirectorapps/ml-jupyter-notebook\n",
      "  UID:                 cb7a6132-f321-45d6-81f5-635f0b79e61e\n",
      "Spec:\n",
      "  Config:\n",
      "    Role Services:\n",
      "      Role ID:  controller\n",
      "      Service I Ds:\n",
      "        jupyter-nb\n",
      "    Selected Roles:\n",
      "      controller\n",
      "  Config Schema Version:   7\n",
      "  Default Config Package:  <nil>\n",
      "  Distro ID:               bluedata/tensorflow\n",
      "  Label:\n",
      "    Description:  TensorFlow GPU with Jupyter notebook\n",
      "    Name:         TensorFlow + Jupyter\n",
      "  Roles:\n",
      "    Cardinality:     1\n",
      "    Config Package:  <nil>\n",
      "    Id:              controller\n",
      "    Image Repo Tag:  tensorflow/tensorflow:latest-gpu-py3-jupyter\n",
      "    Min Resources:\n",
      "      nvidia.com/gpu:  0\n",
      "  Services:\n",
      "    Endpoint:\n",
      "      Is Dashboard:  true\n",
      "      Path:          /\n",
      "      Port:          8888\n",
      "      URL Scheme:    http\n",
      "    Id:              jupyter-nb\n",
      "    Label:\n",
      "      Name:          Jupyter Notebook\n",
      "  Systemd Required:  true\n",
      "  Version:           2.0\n",
      "Events:              <none>\n"
     ]
    }
   ],
   "source": [
    "kubectl describe kubedirectorapp ml-jupyter-notebook "
   ]
  },
  {
   "cell_type": "code",
   "execution_count": 17,
   "metadata": {},
   "outputs": [
    {
     "name": "stdout",
     "output_type": "stream",
     "text": [
      "Name:         spark221e2\n",
      "Namespace:    k8shacktenant\n",
      "Labels:       <none>\n",
      "Annotations:  <none>\n",
      "API Version:  kubedirector.hpe.com/v1beta1\n",
      "Kind:         KubeDirectorApp\n",
      "Metadata:\n",
      "  Creation Timestamp:  2020-03-24T08:25:15Z\n",
      "  Generation:          1\n",
      "  Resource Version:    981021\n",
      "  Self Link:           /apis/kubedirector.hpe.com/v1beta1/namespaces/k8shacktenant/kubedirectorapps/spark221e2\n",
      "  UID:                 753618be-1edf-470c-bff5-385d0e76fafe\n",
      "Spec:\n",
      "  Config:\n",
      "    Role Services:\n",
      "      Role ID:  controller\n",
      "      Service I Ds:\n",
      "        ssh\n",
      "        spark\n",
      "        spark-master\n",
      "        spark-worker\n",
      "      Role ID:  worker\n",
      "      Service I Ds:\n",
      "        ssh\n",
      "        spark-worker\n",
      "      Role ID:  jupyter\n",
      "      Service I Ds:\n",
      "        ssh\n",
      "        jupyter-nb\n",
      "    Selected Roles:\n",
      "      controller\n",
      "      worker\n",
      "      jupyter\n",
      "  Config Schema Version:  7\n",
      "  Distro ID:              bluedata/spark221e2\n",
      "  Label:\n",
      "    Description:  Spark 2.2.1 with Jupyter notebook\n",
      "    Name:         Spark 2.2.1 + Jupyter\n",
      "  Roles:\n",
      "    Cardinality:  1\n",
      "    Config Package:\n",
      "      Package URL:   file:///opt/configscripts/appconfig-2.6.tgz\n",
      "    Id:              controller\n",
      "    Image Repo Tag:  docker.io/bluedata/sparkbase:2.2\n",
      "    Persist Dirs:\n",
      "      /usr\n",
      "      /opt\n",
      "      /var\n",
      "      /data\n",
      "    Cardinality:  0+\n",
      "    Config Package:\n",
      "      Package URL:   file:///opt/configscripts/appconfig-2.6.tgz\n",
      "    Id:              worker\n",
      "    Image Repo Tag:  docker.io/bluedata/sparkbase:2.2\n",
      "    Persist Dirs:\n",
      "      /usr\n",
      "      /opt\n",
      "      /var\n",
      "      /data\n",
      "    Cardinality:  0+\n",
      "    Config Package:\n",
      "      Package URL:   file:///opt/configscripts/appconfig-2.6.tgz\n",
      "    Id:              jupyter\n",
      "    Image Repo Tag:  docker.io/bluedata/jupyter:2.3\n",
      "    Persist Dirs:\n",
      "      /usr\n",
      "      /opt\n",
      "      /var\n",
      "      /data\n",
      "  Services:\n",
      "    Endpoint:\n",
      "      Is Dashboard:  false\n",
      "      Port:          22\n",
      "    Id:              ssh\n",
      "    Label:\n",
      "      Name:  SSH\n",
      "    Endpoint:\n",
      "      Is Dashboard:  true\n",
      "      Path:          /\n",
      "      Port:          8080\n",
      "      URL Scheme:    http\n",
      "    Id:              spark\n",
      "    Label:\n",
      "      Name:  Spark master\n",
      "    Endpoint:\n",
      "      Is Dashboard:  false\n",
      "      Port:          7077\n",
      "      URL Scheme:    spark\n",
      "    Id:              spark-master\n",
      "    Label:\n",
      "      Name:  Spark master\n",
      "    Endpoint:\n",
      "      Is Dashboard:  true\n",
      "      Path:          /\n",
      "      Port:          8081\n",
      "      URL Scheme:    http\n",
      "    Id:              spark-worker\n",
      "    Label:\n",
      "      Name:  Spark worker\n",
      "    Endpoint:\n",
      "      Is Dashboard:  true\n",
      "      Path:          /\n",
      "      Port:          8888\n",
      "      URL Scheme:    http\n",
      "    Id:              jupyter-nb\n",
      "    Label:\n",
      "      Name:          Jupyter Notebook\n",
      "  Systemd Required:  true\n",
      "  Version:           2.7\n",
      "Events:              <none>\n"
     ]
    }
   ],
   "source": [
    "kubectl describe kubedirectorapp spark221e2"
   ]
  },
  {
   "cell_type": "markdown",
   "metadata": {},
   "source": [
    "#### -2- Deploy the TensorFlow with Jupyter Notebook stateful application\n",
    "A configuration manifest YAML file is used to create KubeDirector virtual clusters that **instantiate** the defined KubeDirector App type. The configuration file is used to describe the attributes of a given KubeDirector App.\n",
    "\n",
    "We need to make sure the instance name of the KubeDirector Application is unique among your tenant. "
   ]
  },
  {
   "cell_type": "code",
   "execution_count": 18,
   "metadata": {},
   "outputs": [
    {
     "name": "stdout",
     "output_type": "stream",
     "text": [
      "---\n",
      "apiVersion: \"kubedirector.hpe.com/v1beta1\"\n",
      "kind: \"KubeDirectorCluster\"\n",
      "metadata: \n",
      "  name: \"ml-jupyter-notebook-demouser\"\n",
      "spec: \n",
      "  app: \"ml-jupyter-notebook\"\n",
      "  appCatalog: \"local\"\n",
      "  roles: \n",
      "    - \n",
      "      id: \"controller\"\n",
      "      members: 1\n",
      "      resources: \n",
      "        requests: \n",
      "          memory: \"4Gi\"\n",
      "          cpu: \"2\"\n",
      "          nvidia.com/gpu: \"0\"\n",
      "        limits: \n",
      "          memory: \"4Gi\"\n",
      "          cpu: \"2\"\n",
      "          nvidia.com/gpu: \"0\"\n"
     ]
    }
   ],
   "source": [
    "sed -i \"s/example/${username}/g\" $tensorFlowApp\n",
    "cat $tensorFlowApp"
   ]
  },
  {
   "cell_type": "markdown",
   "metadata": {},
   "source": [
    "The configuration manifest specifies the application instance name, the KubeDirectorApp type, the application service roles to deploy, the number of members (nodes) in a role and compute size, as well as the storage size if the application requires persistent storage. \n",
    "\n",
    "*Note: The AI/ML TensorFlow application is the easiest example to understand. In order to limit the amount of resources used in our lab HPE Container Platform environment for multiple concurrent student users, the TensorFlow KubeDirectorApp variant used here specifies a single node member and it does not specify any persistent storage.*\n",
    "\n",
    "Let's deploy it now using the K8s API call below. The API call requires the **kubectl** operation type (create or apply) and the application YAML manifest."
   ]
  },
  {
   "cell_type": "code",
   "execution_count": 19,
   "metadata": {},
   "outputs": [
    {
     "name": "stdout",
     "output_type": "stream",
     "text": [
      "kubedirectorcluster.kubedirector.hpe.com/ml-jupyter-notebook-demouser created\n"
     ]
    }
   ],
   "source": [
    "kubectl apply -f $tensorFlowApp"
   ]
  },
  {
   "cell_type": "markdown",
   "metadata": {},
   "source": [
    "After a minute or so, you should get the response message to your K8s API request: *kubedirectorcluster/Your-instance-name created*.  \n",
    "\n",
    "Once you get this message, go to the next step."
   ]
  },
  {
   "cell_type": "markdown",
   "metadata": {},
   "source": [
    "#### -3- Inspect the deployed KubeDirector application virtual cluster \n",
    "Your application virtual cluster will be represented in the Kubernetes cluster by a resource of type **KubeDirectorCluster**, with the name that was indicated inside the YAML file used to create it. **A kubeDirectorCluster resource is an instantiation of a KubeDirector App**."
   ]
  },
  {
   "cell_type": "code",
   "execution_count": 20,
   "metadata": {},
   "outputs": [
    {
     "name": "stdout",
     "output_type": "stream",
     "text": [
      "NAME                           AGE\n",
      "ml-jupyter-notebook-demouser   6s\n"
     ]
    }
   ],
   "source": [
    "clusterName=\"ml-jupyter-notebook-${username}\"\n",
    "kubectl get kubedirectorcluster $clusterName"
   ]
  },
  {
   "cell_type": "markdown",
   "metadata": {},
   "source": [
    "After creating the instance of the KubeDirector Application, you can use kubectl command below to observe its status and the standard Kubernetes resources that compose the application virtual cluster (statefulsets, pods, services, persistent volume claim if any) and any events logged against it.\n",
    "\n",
    "The virtual cluster status indicates its overall \"state\" (top-level property of the status object). It should have a value of **\"configured\"**. \n",
    "\n",
    "> Note: The first time a virtual cluster of a given KubeDirector App type is created, it may take some minutes to reach \"configured\" state, as the relevant Docker image must be downloaded and imported."
   ]
  },
  {
   "cell_type": "code",
   "execution_count": 21,
   "metadata": {},
   "outputs": [
    {
     "name": "stdout",
     "output_type": "stream",
     "text": [
      "Name:         ml-jupyter-notebook-demouser\n",
      "Namespace:    k8shacktenant\n",
      "Labels:       <none>\n",
      "Annotations:  kubectl.kubernetes.io/last-applied-configuration:\n",
      "                {\"apiVersion\":\"kubedirector.hpe.com/v1beta1\",\"kind\":\"KubeDirectorCluster\",\"metadata\":{\"annotations\":{},\"name\":\"ml-jupyter-notebook-demouse...\n",
      "API Version:  kubedirector.hpe.com/v1beta1\n",
      "Kind:         KubeDirectorCluster\n",
      "Metadata:\n",
      "  Creation Timestamp:  2020-05-09T16:38:18Z\n",
      "  Finalizers:\n",
      "    kubedirector.hpe.com/cleanup\n",
      "  Generation:        1\n",
      "  Resource Version:  10662871\n",
      "  Self Link:         /apis/kubedirector.hpe.com/v1beta1/namespaces/k8shacktenant/kubedirectorclusters/ml-jupyter-notebook-demouser\n",
      "  UID:               f067b124-ef31-41ef-9bb2-63824d83dac3\n",
      "Spec:\n",
      "  App:          ml-jupyter-notebook\n",
      "  App Catalog:  local\n",
      "  Roles:\n",
      "    Id:       controller\n",
      "    Members:  1\n",
      "    Resources:\n",
      "      Limits:\n",
      "        Cpu:             2\n",
      "        Memory:          4Gi\n",
      "        nvidia.com/gpu:  0\n",
      "      Requests:\n",
      "        Cpu:             2\n",
      "        Memory:          4Gi\n",
      "        nvidia.com/gpu:  0\n",
      "  Service Type:          NodePort\n",
      "Status:\n",
      "  Cluster Service:  kdhs-mz5d5\n",
      "  Generation UID:   68fc7935-ceea-4c66-b76a-ab522b93cbcd\n",
      "  Last Node ID:     1\n",
      "  Member State Rollup:\n",
      "    Config Errors:         false\n",
      "    Members Down:          false\n",
      "    Members Initializing:  false\n",
      "    Members Restarting:    false\n",
      "    Members Waiting:       true\n",
      "    Membership Changing:   true\n",
      "  Roles:\n",
      "    Id:  controller\n",
      "    Members:\n",
      "      Node ID:  1\n",
      "      Pod:      kdss-5qjtn-0\n",
      "      Service:  s-kdss-5qjtn-0\n",
      "      State:    create pending\n",
      "      State Detail:\n",
      "        Last Known Container State:  absent\n",
      "    Stateful Set:                    kdss-5qjtn\n",
      "  Spec Generation To Process:        1\n",
      "  State:                             creating\n",
      "Events:\n",
      "  Type    Reason   Age                From          Message\n",
      "  ----    ------   ----               ----          -------\n",
      "  Normal  Cluster  11s                kubedirector  new\n",
      "  Normal  Role     11s                kubedirector  creating role{controller}\n",
      "  Normal  Role     11s                kubedirector  changing replicas count for role{controller}: 0 -> 1\n",
      "  Normal  Role     11s (x2 over 11s)  kubedirector  waiting for replicas count for role{controller}: 0 -> 1\n"
     ]
    }
   ],
   "source": [
    "kubectl describe kubedirectorcluster $clusterName"
   ]
  },
  {
   "cell_type": "code",
   "execution_count": 22,
   "metadata": {},
   "outputs": [
    {
     "name": "stdout",
     "output_type": "stream",
     "text": [
      "NAME               READY   STATUS    RESTARTS   AGE\n",
      "pod/kdss-5qjtn-0   1/1     Running   0          17s\n",
      "\n",
      "NAME                     TYPE        CLUSTER-IP      EXTERNAL-IP   PORT(S)          AGE\n",
      "service/kdhs-mz5d5       ClusterIP   None            <none>        8888/TCP         17s\n",
      "service/s-kdss-5qjtn-0   NodePort    10.96.253.106   <none>        8888:30479/TCP   17s\n",
      "\n",
      "NAME                          READY   AGE\n",
      "statefulset.apps/kdss-5qjtn   1/1     17s\n"
     ]
    }
   ],
   "source": [
    "kubectl get all -l kubedirector.hpe.com/kdcluster=$clusterName"
   ]
  },
  {
   "cell_type": "markdown",
   "metadata": {},
   "source": [
    "Your TensorFlow KubeDirector application virtual cluster is made up of a **StatefulSet**, a **POD** (a cluster node) per service role member, a **NodePort Service** per service role member and a **headless service** for the application cluster.   \n",
    "\n",
    "* The ClusterIP service is the headless service required by a Kubernetes StatefulSet to work. It maintains a stable POD network identity (i.e.: persistence of the hostname of the PODs across PODs rescheduling).\n",
    "* The NodePort service exposes an application service outside the Kubernetes cluster. \n",
    "HPE Container Platform automatically maps the NodePort Service endpoint to the HPE Container Platform gateway (proxy) host."
   ]
  },
  {
   "cell_type": "markdown",
   "metadata": {},
   "source": [
    "#### -4- Get the application service endpoints\n",
    "To get a report on all services related to a specific virtual cluster, you can use a form of \"kubectl describe\" that matches against a value of the **kubedirector.hpe.com/kdcluster=YourClusterApplicationName** label."
   ]
  },
  {
   "cell_type": "code",
   "execution_count": 23,
   "metadata": {},
   "outputs": [
    {
     "name": "stdout",
     "output_type": "stream",
     "text": [
      "Your application virtual cluster service endpoint is: https://gateway1.etc.fr.comm.hpecorp.net:10002\n"
     ]
    }
   ],
   "source": [
    "tfappURL=$(kubectl describe service -l  kubedirector.hpe.com/kdcluster=${clusterName} | grep gateway1 | awk '{print $3}')\n",
    "mytfapp_endpoint=\"https://${tfappURL}\"\n",
    "echo \"Your application virtual cluster service endpoint is: \"$mytfapp_endpoint"
   ]
  },
  {
   "cell_type": "markdown",
   "metadata": {},
   "source": [
    "Access to application services running in containers is proxied via the gateway host and a port number greater than 10000."
   ]
  },
  {
   "cell_type": "markdown",
   "metadata": {},
   "source": [
    "#### -5- Verify the application service is responding"
   ]
  },
  {
   "cell_type": "code",
   "execution_count": 24,
   "metadata": {},
   "outputs": [
    {
     "name": "stdout",
     "output_type": "stream",
     "text": [
      "HTTP/1.1 302 Found\n",
      "HTTP/1.1 302 Found\n",
      "HTTP/1.1 200 OK\n"
     ]
    }
   ],
   "source": [
    "curl -k -L -s -i \"${mytfapp_endpoint}\" | grep \"HTTP/1.1\""
   ]
  },
  {
   "cell_type": "markdown",
   "metadata": {},
   "source": [
    "#### -6- Fetch the authentication token of TensorFlow Jupyter Notebook "
   ]
  },
  {
   "cell_type": "markdown",
   "metadata": {},
   "source": [
    "Execute this command to get the authentication token: `kubectl exec pod-name jupyter notebook list` and use this token in Jupyter notebook:"
   ]
  },
  {
   "cell_type": "code",
   "execution_count": 25,
   "metadata": {},
   "outputs": [
    {
     "name": "stdout",
     "output_type": "stream",
     "text": [
      "Currently running servers:\n",
      "http://0.0.0.0:8888/?token=dc82e1dfbcdf9cf2df06ab44b59ac8b4201a970b68cdff47 :: /tf\n"
     ]
    }
   ],
   "source": [
    "mytfapp_pod=$(kubectl get pod -l kubedirector.hpe.com/kdcluster=${clusterName} | grep kdss | awk '{print $1}') \n",
    "#echo $mytfapp_pod\n",
    "kubectl exec ${mytfapp_pod} jupyter notebook list"
   ]
  },
  {
   "cell_type": "markdown",
   "metadata": {},
   "source": [
    "#### -7- Connect to your application"
   ]
  },
  {
   "cell_type": "markdown",
   "metadata": {},
   "source": [
    "You can connect to your tensorflow framework with Jupyter Notebook and start build your ML model (for example a regression model), train the model and make prediction.\n",
    "\n",
    "Open a new tab in your browser, and connect to the service endpoint: https://77.158.163.130:YourPortNumber?token=YourToken\n",
    "where 77.158.163.130 is the NAT IP address of the HPE CP proxy gateway, port number is the port you get for your service endpoint, and the token is the authentication token you have just fetched. "
   ]
  },
  {
   "cell_type": "markdown",
   "metadata": {},
   "source": [
    "![TensorFlow Jupyter Notebook](Pictures/kubedirector-tf-jupyterNotebook.png)"
   ]
  },
  {
   "cell_type": "markdown",
   "metadata": {},
   "source": [
    "#### -8- Resizing the KubeDirector App cluster instance\n",
    "To increase or decrease the number of members in a role, you would just have to edit the configuration YAML file and use the kubectl apply API call to implement the changes. The KubeDirector operator will manage the application cluster expansion or shrinkage for you. "
   ]
  },
  {
   "cell_type": "markdown",
   "metadata": {},
   "source": [
    "#### -9- Go through some cleanup"
   ]
  },
  {
   "cell_type": "markdown",
   "metadata": {},
   "source": [
    "* First delete the kubedirector application cluster instance using the K8s API call below. The K8s API call requires the **kubectl** operation type (delete) and the application manifest.\n",
    "\n",
    "> Note: Deleting the KubeDirectorCluster resource will automatically delete all resources (for example the pods, services, statefulset) that compose the KubeDirector application virtual cluster."
   ]
  },
  {
   "cell_type": "code",
   "execution_count": 26,
   "metadata": {},
   "outputs": [
    {
     "name": "stdout",
     "output_type": "stream",
     "text": [
      "kubedirectorcluster.kubedirector.hpe.com \"ml-jupyter-notebook-demouser\" deleted\n"
     ]
    }
   ],
   "source": [
    "kubectl delete -f $tensorFlowApp"
   ]
  },
  {
   "cell_type": "markdown",
   "metadata": {},
   "source": [
    "* Although session have a time to live (TTL) of 24 hours, it is best practice in REST API programming to cleanup and delete those sessions when done. We can use a DELETE /api/v2/session/SessionId to achieve this."
   ]
  },
  {
   "cell_type": "code",
   "execution_count": 27,
   "metadata": {},
   "outputs": [
    {
     "name": "stdout",
     "output_type": "stream",
     "text": [
      "HTTP/1.1 204 No Content\n",
      "Access-Control-Allow-Origin: *\n",
      "Content-Length: 0\n",
      "Content-Type: text/plain\n",
      "Date: Sat, 09 May 2020 16:39:13 GMT\n",
      "Server: BlueData EPIC 5.0\n",
      "\n"
     ]
    }
   ],
   "source": [
    "curl -k -i -s --request DELETE \"https://${controller_endpoint}/api/v2/session/${SessionId}\" \\\n",
    "--header \"X-BDS-SESSION: $sessionlocation\" \\\n",
    "--header 'Accept: application/json' \\\n",
    "--header 'Content-Type: application/json'"
   ]
  },
  {
   "cell_type": "markdown",
   "metadata": {},
   "source": [
    "The status *204 No Content* means the session object has been deleted."
   ]
  },
  {
   "cell_type": "markdown",
   "metadata": {},
   "source": [
    "* Finally, reset your applications YAML files and delete the kubeconfig file"
   ]
  },
  {
   "cell_type": "code",
   "execution_count": 28,
   "metadata": {},
   "outputs": [
    {
     "name": "stdout",
     "output_type": "stream",
     "text": [
      "apiVersion: apps/v1\n",
      "kind: Deployment\n",
      "metadata:\n",
      "  name: hello-world-example\n",
      "spec:\n",
      "  selector:\n",
      "    matchLabels:\n",
      "      run: hello-example\n",
      "  replicas: 2\n",
      "  template:\n",
      "    metadata:\n",
      "      labels:\n",
      "        run: hello-example\n",
      "    spec:\n",
      "      containers:\n",
      "        - name: hello-world-example\n",
      "          image: gcr.io/google-samples/node-hello:1.0\n",
      "          ports:\n",
      "            - containerPort: 8080\n",
      "              protocol: TCP\n",
      "---\n",
      "apiVersion: v1\n",
      "kind: Service\n",
      "metadata:\n",
      "  name: hello-world-service-example\n",
      "spec:\n",
      "  selector:\n",
      "    run: hello-example\n",
      "  ports:\n",
      "  - name: http-hello\n",
      "    protocol: TCP\n",
      "    port: 8080\n",
      "    targetPort: 8080\n",
      "  type: NodePort\n",
      "---\n",
      "apiVersion: \"kubedirector.hpe.com/v1beta1\"\n",
      "kind: \"KubeDirectorCluster\"\n",
      "metadata: \n",
      "  name: \"ml-jupyter-notebook-example\"\n",
      "spec: \n",
      "  app: \"ml-jupyter-notebook\"\n",
      "  appCatalog: \"local\"\n",
      "  roles: \n",
      "    - \n",
      "      id: \"controller\"\n",
      "      members: 1\n",
      "      resources: \n",
      "        requests: \n",
      "          memory: \"4Gi\"\n",
      "          cpu: \"2\"\n",
      "          nvidia.com/gpu: \"0\"\n",
      "        limits: \n",
      "          memory: \"4Gi\"\n",
      "          cpu: \"2\"\n",
      "          nvidia.com/gpu: \"0\"\n"
     ]
    }
   ],
   "source": [
    "#reset the application deployment name in the YAML file and delete the kubeconfgi file\n",
    "rm ${student}_kubeconfig\n",
    "sed -i \"s/${username}/example/g\" $helloWorldApp\n",
    "sed -i \"s/${username}/example/g\" $tensorFlowApp\n",
    "cat $helloWorldApp\n",
    "cat $tensorFlowApp"
   ]
  },
  {
   "cell_type": "markdown",
   "metadata": {},
   "source": [
    "## Summary\n",
    "\n",
    "In this tutorial, you learned how **tenant users** can deploy, programmatically, cloud-native stateless, microservices applications, and non-cloud-native distributed stateful AI/analytics KubeDirector applications on Kubernetes clusters managed by HPE Container Platform. You also used the standard Kubernetes command line (kubectl) to interact with the Kubernetes cluster in the context of your tenant user account. "
   ]
  }
 ],
 "metadata": {
  "kernelspec": {
   "display_name": "Bash",
   "language": "bash",
   "name": "bash"
  },
  "language_info": {
   "codemirror_mode": "shell",
   "file_extension": ".sh",
   "mimetype": "text/x-sh",
   "name": "bash"
  }
 },
 "nbformat": 4,
 "nbformat_minor": 4
}
