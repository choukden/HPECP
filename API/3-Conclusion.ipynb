{
  "cells": [
    {
      "cell_type": "markdown",
      "metadata": {},
      "source": [
        "![enter image description here](https://developer.hpe.com/img/hpe-dev-logo-mark-anim.svg?1580730675069 \"HPE DEV Hack Shack\")\n",
        "\n",
        "# Thank you for visiting the Hack Shack\n",
        "\n",
        "Powered by [HPE DEV Team](hpedev.io)\n",
        "\n",
        "# Conclusion\n",
        "\n",
        "In this workshop, you have learned about the HPE Container Platform (HPE CP) REST API basics and how you can interact with HPE CP programmatically through REST API and K8s API, to accelerate your application development and deployment on containers. \n",
        "\n",
        "**Congratulations!**\n"
      ]
    },
    {
      "cell_type": "markdown",
      "metadata": {},
      "source": [
        "# Final Step\n",
        "Please Take a moment to fill out our [survey](https://forms.office.com/Pages/ResponsePage.aspx?id=YSBbEGm2MUuSrCTTBNGV3KHzFdd987lBoQATWJq45DdUOEZJTFBCUEJDQktPVkcyREVBRDFJOEVMOS4u)\n",
        "  \n",
        "Make sure you use `File->Log Out` to terminate your workshop."
      ]
    },
    {
      "cell_type": "markdown",
      "metadata": {},
      "source": [
        "# Thank You\n",
        "![ThankYou](Pictures/grommet.jpg)"
      ]
    }
  ],
  "metadata": {
    "kernelspec": {
      "display_name": "Bash",
      "language": "bash",
      "name": "bash"
    },
    "language_info": {
      "codemirror_mode": "shell",
      "file_extension": ".sh",
      "mimetype": "text/x-sh",
      "name": "bash"
    }
  },
  "nbformat": 4,
  "nbformat_minor": 4
}
