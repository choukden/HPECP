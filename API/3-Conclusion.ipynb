{
 "cells": [
  {
   "cell_type": "markdown",
   "metadata": {},
   "source": [
    "![HPEDEVLogo](Pictures/hpe-dev-logo.png)\n",
    "\n",
    "# Thank you for visiting the Hack Shack\n",
    "\n",
    "Powered by [HPE DEV Team](hpedev.io)\n",
    "\n",
    "# Conclusion\n",
    "\n",
    "**Congratulations!**\n",
    "\n",
    "In this workshop, we introduced you to the HPE Container Platform (HPE CP) REST API basics and showed you how to interact with HPE CP programmatically through REST API and K8s API, to accelerate your application development and deployment on containers. \n"
   ]
  },
  {
   "cell_type": "markdown",
   "metadata": {},
   "source": [
    "# Final Step\n",
    "Please take a moment to fill out our [survey](https://forms.office.com/Pages/DesignPage.aspx#FormId=YSBbEGm2MUuSrCTTBNGV3KHzFdd987lBoQATWJq45DdUMlhIRDlJUjhDV0FESU9YNlEyUjNTSFc3Ui4u) so we can ensure future workshops meet your needs.\n",
    "  \n",
    "Finally, make sure you use `File->Log Out` to terminate your workshop."
   ]
  },
  {
   "cell_type": "markdown",
   "metadata": {},
   "source": [
    "# Thank you\n",
    "![ThankYou](Pictures/grommet.jpg)"
   ]
  }
 ],
 "metadata": {
  "kernelspec": {
   "display_name": "Bash",
   "language": "bash",
   "name": "bash"
  },
  "language_info": {
   "codemirror_mode": "shell",
   "file_extension": ".sh",
   "mimetype": "text/x-sh",
   "name": "bash"
  }
 },
 "nbformat": 4,
 "nbformat_minor": 4
}
