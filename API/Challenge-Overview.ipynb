{
 "cells": [
  {
   "cell_type": "markdown",
   "metadata": {},
   "source": [
    "![HPEDEVLogo](Pictures/hpe-dev-logo.png)\n",
    "\n",
    "# Welcome to Hack Shack\n",
    "Powered by [HPE DEV Team](https://hpedev.io)\n",
    "\n",
    "\n",
    "<p align=\"center\">\n",
    "  <img src=\"Pictures/hackshackdisco.png\">\n",
    "  \n",
    "</p>\n",
    "\n",
    "# Coding Challenge - HPE Ezmeral Container Platform REST API \n",
    "\n",
    "## Deploy a sample front-end application on a CNCF certified Kubernetes cluster running on HPE Ezmeral Container Platform using API calls.\n",
    "  \n",
    "    \n",
    "   "
   ]
  },
  {
   "cell_type": "markdown",
   "metadata": {},
   "source": [
    "### Description\n",
    "This coding challenge is a simple add-on to the Workshops-on-Demand: [**Introduction to the HPE Ezmeral Container Platform - REST API**](https://hackshack.hpedev.io/workshops). Here, you will be tasked with deploying a sample front-end application with a Web Interface on a CNCF certified Kubernetes cluster on HPE Ezmeral Container Platform using API calls. You can select a containerized application of your choice located in [dockerhub](https://hub.docker.com/). Part of this challenge includes answering questions on a quiz. Take this simple challenge to put what you have learned to the test and compete for prizes.\n",
    "\n",
    "### Evaluation\n",
    "This code challenge was created to reward collective learning. The evaluation criteria for this challenge are:\n",
    "* Completeness\n",
    "* Number of accurate responses to our quiz\n",
    "\n",
    "### Submission format\n",
    "You may submit **one** Kubernetes manifest YAML file for the deployment of your front-end application. The YAML file should have at least two declarative statements:\n",
    "* A **Deployment** that brings up one replica of your containerized application. The deployment should have a unique name in the form of **_YourAppName-YourFullName_**\n",
    "\n",
    "* A **Service** that exposes your application as a network service via the HPE Ezmeral Container Platform. The service name should be unique in the form of **_YourAppName-Service-YourFullName_**. The service port name should be of type **_NodePort_** and it should be prefixed with **_http-_** in the service object definition. With this prefix, the application service will receive SSL termination at the HPE Ezmeral Container Platform gateway on a TCP service port higher than 10000.\n",
    "\n",
    "##### When you are ready to submit your response to the challenge, click [**here**](mailto:hpedev.hackshack@hpe.com?subject=HPE%20DEV%20Hack%20Shack%20Virtual%20Experience%20-%20container%20code%20challenge) to send it via e-mail to **HPE DEV Hack Shack team**. Your e-mail should include the following:\n",
    "* Your responses to the ****Quiz** **(copy/paste the challenge quiz section below along with your response in your e-mail)\n",
    "* Your ****YAML** **file\n",
    "* Your application HTTP/S network service endpoint in the form of https://notebooks.hpedev.io:serviceport\n",
    "\n",
    "    \n",
    "### Deadline\n",
    "Challenge submissions must be received no later than November 20, 11:59 PM PDT.\n",
    "\n",
    "The awards will be made following the close of the event.\n",
    "\n",
    "[Review the terms & conditions](https://hackshack.hpedev.io/challengetermsconditions)"
   ]
  },
  {
   "cell_type": "markdown",
   "metadata": {},
   "source": [
    "## Got it! I’m ready to get started. Where do I get help if I need it?\n",
    "We highly encourage you to read through the Notebook **2-WKSHP-HPECP-DeployApp-K8S-Tenant-tf.ipynb** before taking on the challenge. That 20-minute Jupyter-Notebook based workshop will provide you with all the information you need to know to take on the challenge.\n",
    "\n",
    "We have also set up a Slack channel in the[ HPE DEV Slack Workspace](https://slack.hpedev.io/). Feel free to join the workspace then [start asking questions there](https://hpedev.slack.com/archives/C015CLE2QTT). Members of the HPE DEV Team will be around to help you.\n"
   ]
  },
  {
   "cell_type": "markdown",
   "metadata": {},
   "source": [
    "\n",
    "<p align=\"center\">\n",
    "  <img src=\"Pictures/Scissor-images-v2.png\">\n",
    "</p>\n",
    "\n",
    "## Take the Coding Challenge Quiz!\n",
    "HPE Ezmeral Container Platform is an enterprise-grade solution designed to deploy containerized environments at scale with open source Kubernetes, for both cloud native and non cloud-native applications.\n",
    "\n",
    "\n",
    "**1. HPE Ezmeral Container Platform provides the ability to deploy and manage multiple versions of 100% open source Kubernetes and was recently certified by CNCF as a ----------------**\n",
    "\n",
    "     a. Certified Kubernetes Distribution  \n",
    "     b. PaaS/Container Service\n",
    "   \n",
    "  Your answer:\n",
    "\n",
    "   \n",
    "   \n",
    "**2. HPE Ezmeral Container Platform includes --------------, an innovative open source project from HPE that enables organizations to run non cloud-native stateful applications on Kubernetes without modifying code.**\n",
    "\n",
    "     a. StatefulSet    \n",
    "     b. KubeDirector\n",
    "\n",
    "  Your answer:\n",
    "\n",
    "**3. HPE Ezmeral Container Platform exposes a REST API for programmatic access. What port is used to communicate with the REST API endpoint?**\n",
    "\n",
    "     a. 80  \n",
    "     b. 8080  \n",
    "     c. 443  \n",
    "\n",
    "  Your answer:\n",
    "\n",
    "**4. All the API calls you can do to interact programmatically with HPE Ezmeral Container Platform must be authenticated with a token. To retrieve the token, you issue an authentication request for object _/session_ in the following form:**\n",
    "\n",
    "     a. a POST request with the username, password credentials and tenant name in the body   \n",
    "     b. a GET request with the username, password credentials and tenant name in the body\n",
    "   \n",
    "  Your answer:\n",
    "  \n",
    "<p align=\"center\">\n",
    "  <img src=\"Pictures/Scissor-images-v2.png\">\n",
    "</p>"
   ]
  },
  {
   "cell_type": "markdown",
   "metadata": {},
   "source": [
    "---"
   ]
  },
  {
   "cell_type": "markdown",
   "metadata": {},
   "source": [
    "### You can join the HPE DEV Community and enter into a drawing to win a prize by [signing up](https://developer.hpe.com/event/kubecon-na-2020?listid=12906620) to the HPE DEV Newsletter.\n",
    "\n",
    "# Join the HPE DEV Community\n",
    "![QRCode](Pictures/QRCode-HPEDEV.png)\n",
    "\n",
    "# Thank you!\n",
    "![grommet.JPG](Pictures/grommet.jpg)"
   ]
  }
 ],
 "metadata": {
  "kernelspec": {
   "display_name": "Python 3",
   "language": "python",
   "name": "python3"
  },
  "language_info": {
   "codemirror_mode": {
    "name": "ipython",
    "version": 3
   },
   "file_extension": ".py",
   "mimetype": "text/x-python",
   "name": "python",
   "nbconvert_exporter": "python",
   "pygments_lexer": "ipython3",
   "version": "3.8.5"
  }
 },
 "nbformat": 4,
 "nbformat_minor": 4
}
