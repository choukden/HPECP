{
 "cells": [
  {
   "cell_type": "markdown",
   "metadata": {},
   "source": [
    "# Welcome to the HPE Container Platform API series\n",
    "\n",
    "Jupyter Notebook can be found [here](https://github.com/choukden/HPECP/blob/master/API/HPECP-Intro-API.ipynb)\n",
    "\n",
    "**Requirements:**\n",
    "- HPE Container Platform instance\n",
    "- IP address of the HPE Container Platform's controller host\n",
    "- a tenant user or tenant admin account   \n",
    "\n",
    "**Utilities:**   \n",
    "- Postman,   \n",
    "- Jupyter Notebook server\n",
    "\n",
    "**Definitions:**\n",
    "- *HPE Container Platform* is the industry’s first enterprise-grade container platform designed to deploy both cloud-native and non-cloud-native applications whether on-premises, at the edge, in multiple public clouds, or in a hybrid model. This makes the HPE Container Platform ideal for helping application developers and data scientists accelerate their application development and deployment on containers, on-demand through a self-service portal and a RESTful API that surfaces programmable access. To learn more about HPE Container Platform visit the [HPE DEV portal](https://developer.hpe.com) and check out the blog articles.\n",
    "\n",
    "- *tenant:* A tenant is a group of users created by the platform administrator. A tenant can represent for example, a BU, a department, an organization, a project, an application. A tenant is allocated a set of resources (CPU/GPU, RAM, Storage, App Store images) by the platform administrator. All the resources used by a gven tenant are not shared with other tenants.\n"
   ]
  },
  {
   "cell_type": "markdown",
   "metadata": {},
   "source": [
    "## The HPE Container Platform API Reference\n",
    "Before you can call the HPE Container Platform API, you need to know what calls can be placed. The REST API reference documentation describes each object type, along with the supported operations, request input parameters, response model and response codes. \n",
    "To access the REST API reference documentation, obtain the IP address or hostname of the current active HPE Container Platform controller host from the administrator of the platform. Then in a web browser, navigate to the following URL:\n",
    "\n",
    "``` \n",
    "https://[Controller-IP-address]/apidocs\n",
    "```\n",
    "\n",
    "All the API calls are in the form: \n",
    "``` \n",
    "An HTTP VERB such as (GET , POST, DELETE, PUT, PATCH, UPDATE),  \n",
    "A target API object: https://[Controller-IP-address]:8080/api/v2/[object]\n",
    "```\n",
    "\n",
    "## Session Authentication\n",
    "With the exception of some API calls, most of the REST API calls you can do against the HPE Container Platform API requires authentication. HPE Container Platform uses a *‘session location’* to use as operation context. You request an authentication session location by issuing an authentication request in the following form:\n",
    "* Call the API to request a new login session, providing username/password credentials in the JSON body. It is a valid tenant user/admin or platform administrator credentials), \n",
    "* Extract the resource path of the created *session location* object from the JSON response header,\n",
    "* For each subsequent call, set a new HTTP Header with its key set to *X-BDS-SESSION* and its value set to the session location value and used as operation context. \n",
    "\n",
    "``` \n",
    "Note: the session location will expire after 24 hours. \n",
    "```   \n",
    "\n",
    "If you are not already familiar with REST API calls and Postman, I encourage you to check-out the [Understanding API basics and the value they provide](https://developer.hpe.com/blog/understanding-api-basics-and-the-value-they-provide) blog on HPE Developer Community portal. It explains you REST API concepts such as HTTP verbs you call against the API, the headers, and payloads and how to use Postman to make API calls.  "
   ]
  },
  {
   "cell_type": "markdown",
   "metadata": {},
   "source": [
    "### Step 1:\n",
    "You call the HPE Container Platform API to request a new login session location. You provide the credentials of a tenant user or tenant admin depending on your role. Let's do it first in Postman and then in cURL command."
   ]
  },
  {
   "cell_type": "markdown",
   "metadata": {},
   "source": [
    "**Postman:**\n",
    "Postman can be used to issue REST API calls to the HPE Container Platform. The following capture shows the information passed by Postman to the API. It is a POST operation against /api/v2/session to create a session object. The header specifies JSON as the exchange format and the body provides the user credentials. The target HPE Container Platform controller IP address and the user credentials are defined in a group of variables called a Postman environment. These variables typically describe a given target environment and are expected to be set before the API calls. Postman also allows you to extract the session location from the response header and store it in a Postman envrionment variable for later use. This is accomplished by using a single line of JavaScript code as shown in the *Tests* tab. "
   ]
  },
  {
   "cell_type": "markdown",
   "metadata": {},
   "source": [
    "<img src=\"Pictures/HPECP-Postman-post-session.gif\" height=\"800\" width=\"600\" align=\"left\">"
   ]
  },
  {
   "cell_type": "markdown",
   "metadata": {},
   "source": [
    "**cURL:** Let's do the equivalent API call to create the session using cURL. Information on cURL can be found [here](https://curl.haxx.se/)"
   ]
  },
  {
   "cell_type": "code",
   "execution_count": 5,
   "metadata": {},
   "outputs": [],
   "source": [
    "controller_ip_name=\"controller.hpedevlab.net:8080\"\n",
    "username=\"demouser\"\n",
    "password=\"password\""
   ]
  },
  {
   "cell_type": "code",
   "execution_count": 6,
   "metadata": {},
   "outputs": [
    {
     "name": "stdout",
     "output_type": "stream",
     "text": [
      "/api/v2/session/4a305246-5b8c-45af-bf44-6b24d909378b\n"
     ]
    }
   ],
   "source": [
    "sessionlocation=$(curl -k -i -s --request POST \"https://${controller_ip_name}/api/v2/session\" \\\n",
    "--header 'Accept: application/json' \\\n",
    "--header 'Content-Type: application/json' \\\n",
    "--data-raw '{\n",
    "\"name\": \"'\"$username\"'\",\n",
    "\"password\": \"'\"$password\"'\"\n",
    "}' | grep Location | awk '{print $2}')\n",
    "echo $sessionlocation"
   ]
  },
  {
   "cell_type": "markdown",
   "metadata": {},
   "source": [
    "### Step 2:\n",
    "Save the value of the session _Location_ from the response header above, to use it in all your subsequent API calls. For example, here I call the HPE Container Platform API to get the list of application templates available to me as a tenant user."
   ]
  },
  {
   "cell_type": "markdown",
   "metadata": {},
   "source": [
    "**Postman:**"
   ]
  },
  {
   "cell_type": "markdown",
   "metadata": {},
   "source": [
    "<img src=\"Pictures/HPECP-Postman-Get-template.gif\" height=\"800\" width=\"600\" align=\"left\">"
   ]
  },
  {
   "cell_type": "markdown",
   "metadata": {},
   "source": [
    "**cURL:**"
   ]
  },
  {
   "cell_type": "code",
   "execution_count": 7,
   "metadata": {},
   "outputs": [
    {
     "name": "stdout",
     "output_type": "stream",
     "text": [
      "\u001b[1;39m{\n",
      "  \u001b[0m\u001b[34;1m\"_links\"\u001b[0m\u001b[1;39m: \u001b[0m\u001b[1;39m{\n",
      "    \u001b[0m\u001b[34;1m\"self\"\u001b[0m\u001b[1;39m: \u001b[0m\u001b[1;39m{\n",
      "      \u001b[0m\u001b[34;1m\"href\"\u001b[0m\u001b[1;39m: \u001b[0m\u001b[0;32m\"/api/v2/template\"\u001b[0m\u001b[1;39m\n",
      "    \u001b[1;39m}\u001b[0m\u001b[1;39m\n",
      "  \u001b[1;39m}\u001b[0m\u001b[1;39m,\n",
      "  \u001b[0m\u001b[34;1m\"_embedded\"\u001b[0m\u001b[1;39m: \u001b[0m\u001b[1;39m{\n",
      "    \u001b[0m\u001b[34;1m\"templates\"\u001b[0m\u001b[1;39m: \u001b[0m\u001b[1;39m[\n",
      "      \u001b[1;39m{\n",
      "        \u001b[0m\u001b[34;1m\"_links\"\u001b[0m\u001b[1;39m: \u001b[0m\u001b[1;39m{\n",
      "          \u001b[0m\u001b[34;1m\"self\"\u001b[0m\u001b[1;39m: \u001b[0m\u001b[1;39m{\n",
      "            \u001b[0m\u001b[34;1m\"href\"\u001b[0m\u001b[1;39m: \u001b[0m\u001b[0;32m\"/api/v2/template/3\"\u001b[0m\u001b[1;39m\n",
      "          \u001b[1;39m}\u001b[0m\u001b[1;39m,\n",
      "          \u001b[0m\u001b[34;1m\"all_templates\"\u001b[0m\u001b[1;39m: \u001b[0m\u001b[1;39m{\n",
      "            \u001b[0m\u001b[34;1m\"href\"\u001b[0m\u001b[1;39m: \u001b[0m\u001b[0;32m\"/api/v2/template\"\u001b[0m\u001b[1;39m\n",
      "          \u001b[1;39m}\u001b[0m\u001b[1;39m\n",
      "        \u001b[1;39m}\u001b[0m\u001b[1;39m,\n",
      "        \u001b[0m\u001b[34;1m\"_embedded\"\u001b[0m\u001b[1;39m: \u001b[0m\u001b[1;39m{\n",
      "          \u001b[0m\u001b[34;1m\"label\"\u001b[0m\u001b[1;39m: \u001b[0m\u001b[1;39m{\n",
      "            \u001b[0m\u001b[34;1m\"_links\"\u001b[0m\u001b[1;39m: \u001b[0m\u001b[1;39m{\n",
      "              \u001b[0m\u001b[34;1m\"self\"\u001b[0m\u001b[1;39m: \u001b[0m\u001b[1;39m{\n",
      "                \u001b[0m\u001b[34;1m\"href\"\u001b[0m\u001b[1;39m: \u001b[0m\u001b[0;32m\"/api/v2/template/3/label\"\u001b[0m\u001b[1;39m\n",
      "              \u001b[1;39m}\u001b[0m\u001b[1;39m\n",
      "            \u001b[1;39m}\u001b[0m\u001b[1;39m,\n",
      "            \u001b[0m\u001b[34;1m\"name\"\u001b[0m\u001b[1;39m: \u001b[0m\u001b[0;32m\"Centos 7 example\"\u001b[0m\u001b[1;39m,\n",
      "            \u001b[0m\u001b[34;1m\"description\"\u001b[0m\u001b[1;39m: \u001b[0m\u001b[0;32m\"system-created example template\"\u001b[0m\u001b[1;39m\n",
      "          \u001b[1;39m}\u001b[0m\u001b[1;39m,\n",
      "          \u001b[0m\u001b[34;1m\"clusterspec\"\u001b[0m\u001b[1;39m: \u001b[0m\u001b[1;39m{\n",
      "            \u001b[0m\u001b[34;1m\"_links\"\u001b[0m\u001b[1;39m: \u001b[0m\u001b[1;39m{\n",
      "              \u001b[0m\u001b[34;1m\"self\"\u001b[0m\u001b[1;39m: \u001b[0m\u001b[1;39m{\n",
      "                \u001b[0m\u001b[34;1m\"href\"\u001b[0m\u001b[1;39m: \u001b[0m\u001b[0;32m\"/api/v2/template/3/clusterspec\"\u001b[0m\u001b[1;39m\n",
      "              \u001b[1;39m}\u001b[0m\u001b[1;39m\n",
      "            \u001b[1;39m}\u001b[0m\u001b[1;39m,\n",
      "            \u001b[0m\u001b[34;1m\"nodegroup\"\u001b[0m\u001b[1;39m: \u001b[0m\u001b[1;39m{\n",
      "              \u001b[0m\u001b[34;1m\"catalog_entry_distro_id\"\u001b[0m\u001b[1;39m: \u001b[0m\u001b[0;32m\"bluedata/centos7\"\u001b[0m\u001b[1;39m,\n",
      "              \u001b[0m\u001b[34;1m\"role_configs\"\u001b[0m\u001b[1;39m: \u001b[0m\u001b[1;39m[\n",
      "                \u001b[1;39m{\n",
      "                  \u001b[0m\u001b[34;1m\"role_id\"\u001b[0m\u001b[1;39m: \u001b[0m\u001b[0;32m\"controller\"\u001b[0m\u001b[1;39m,\n",
      "                  \u001b[0m\u001b[34;1m\"flavor_name\"\u001b[0m\u001b[1;39m: \u001b[0m\u001b[0;32m\"Large\"\u001b[0m\u001b[1;39m\n",
      "                \u001b[1;39m}\u001b[0m\u001b[1;39m,\n",
      "                \u001b[1;39m{\n",
      "                  \u001b[0m\u001b[34;1m\"role_id\"\u001b[0m\u001b[1;39m: \u001b[0m\u001b[0;32m\"worker\"\u001b[0m\u001b[1;39m,\n",
      "                  \u001b[0m\u001b[34;1m\"flavor_name\"\u001b[0m\u001b[1;39m: \u001b[0m\u001b[0;32m\"Small\"\u001b[0m\u001b[1;39m,\n",
      "                  \u001b[0m\u001b[34;1m\"node_count\"\u001b[0m\u001b[1;39m: \u001b[0m\u001b[0;39m1\u001b[0m\u001b[1;39m\n",
      "                \u001b[1;39m}\u001b[0m\u001b[1;39m\n",
      "              \u001b[1;39m]\u001b[0m\u001b[1;39m\n",
      "            \u001b[1;39m}\u001b[0m\u001b[1;39m\n",
      "          \u001b[1;39m}\u001b[0m\u001b[1;39m,\n",
      "          \u001b[0m\u001b[34;1m\"attributes\"\u001b[0m\u001b[1;39m: \u001b[0m\u001b[1;39m{\n",
      "            \u001b[0m\u001b[34;1m\"_links\"\u001b[0m\u001b[1;39m: \u001b[0m\u001b[1;39m{\n",
      "              \u001b[0m\u001b[34;1m\"self\"\u001b[0m\u001b[1;39m: \u001b[0m\u001b[1;39m{\n",
      "                \u001b[0m\u001b[34;1m\"href\"\u001b[0m\u001b[1;39m: \u001b[0m\u001b[0;32m\"/api/v2/template/3/attributes\"\u001b[0m\u001b[1;39m\n",
      "              \u001b[1;39m}\u001b[0m\u001b[1;39m\n",
      "            \u001b[1;39m}\u001b[0m\u001b[1;39m\n",
      "          \u001b[1;39m}\u001b[0m\u001b[1;39m,\n",
      "          \u001b[0m\u001b[34;1m\"metadata\"\u001b[0m\u001b[1;39m: \u001b[0m\u001b[1;39m{\n",
      "            \u001b[0m\u001b[34;1m\"_links\"\u001b[0m\u001b[1;39m: \u001b[0m\u001b[1;39m{\n",
      "              \u001b[0m\u001b[34;1m\"self\"\u001b[0m\u001b[1;39m: \u001b[0m\u001b[1;39m{\n",
      "                \u001b[0m\u001b[34;1m\"href\"\u001b[0m\u001b[1;39m: \u001b[0m\u001b[0;32m\"/api/v2/template/3/metadata\"\u001b[0m\u001b[1;39m\n",
      "              \u001b[1;39m}\u001b[0m\u001b[1;39m\n",
      "            \u001b[1;39m}\u001b[0m\u001b[1;39m,\n",
      "            \u001b[0m\u001b[34;1m\"created_time\"\u001b[0m\u001b[1;39m: \u001b[0m\u001b[0;39m1582562091\u001b[0m\u001b[1;39m,\n",
      "            \u001b[0m\u001b[34;1m\"last_modified_time\"\u001b[0m\u001b[1;39m: \u001b[0m\u001b[0;39m1582562091\u001b[0m\u001b[1;39m,\n",
      "            \u001b[0m\u001b[34;1m\"is_system_created\"\u001b[0m\u001b[1;39m: \u001b[0m\u001b[0;39mtrue\u001b[0m\u001b[1;39m\n",
      "          \u001b[1;39m}\u001b[0m\u001b[1;39m,\n",
      "          \u001b[0m\u001b[34;1m\"notices\"\u001b[0m\u001b[1;39m: \u001b[0m\u001b[1;39m{\n",
      "            \u001b[0m\u001b[34;1m\"_links\"\u001b[0m\u001b[1;39m: \u001b[0m\u001b[1;39m{\n",
      "              \u001b[0m\u001b[34;1m\"self\"\u001b[0m\u001b[1;39m: \u001b[0m\u001b[1;39m{\n",
      "                \u001b[0m\u001b[34;1m\"href\"\u001b[0m\u001b[1;39m: \u001b[0m\u001b[0;32m\"/api/v2/template/3/notices\"\u001b[0m\u001b[1;39m\n",
      "              \u001b[1;39m}\u001b[0m\u001b[1;39m\n",
      "            \u001b[1;39m}\u001b[0m\u001b[1;39m,\n",
      "            \u001b[0m\u001b[34;1m\"errors\"\u001b[0m\u001b[1;39m: \u001b[0m\u001b[1;39m[\n",
      "              \u001b[0;32m\"clusterspec.nodegroup.catalog_entry_distro_id: the selected App Store entry distro ID \\\"bluedata/centos7\\\" does not exist, or is not available for this tenant\"\u001b[0m\u001b[1;39m\n",
      "            \u001b[1;39m]\u001b[0m\u001b[1;39m\n",
      "          \u001b[1;39m}\u001b[0m\u001b[1;39m\n",
      "        \u001b[1;39m}\u001b[0m\u001b[1;39m\n",
      "      \u001b[1;39m}\u001b[0m\u001b[1;39m\n",
      "    \u001b[1;39m]\u001b[0m\u001b[1;39m\n",
      "  \u001b[1;39m}\u001b[0m\u001b[1;39m\n",
      "\u001b[1;39m}\u001b[0m\n"
     ]
    }
   ],
   "source": [
    "curl -k -s --request GET \"https://${controller_ip_name}/api/v2/template\" \\\n",
    "--header 'X-BDS-SESSION: /api/v2/session/4a305246-5b8c-45af-bf44-6b24d909378b' \\\n",
    "--header 'Accept: application/json' \\\n",
    "--header 'Content-Type: application/json' | jq"
   ]
  },
  {
   "cell_type": "code",
   "execution_count": null,
   "metadata": {},
   "outputs": [],
   "source": []
  }
 ],
 "metadata": {
  "kernelspec": {
   "display_name": "Bash",
   "language": "bash",
   "name": "bash"
  },
  "language_info": {
   "codemirror_mode": "shell",
   "file_extension": ".sh",
   "mimetype": "text/x-sh",
   "name": "bash"
  }
 },
 "nbformat": 4,
 "nbformat_minor": 4
}
