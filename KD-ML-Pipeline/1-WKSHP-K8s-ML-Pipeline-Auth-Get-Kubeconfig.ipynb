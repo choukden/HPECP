{
 "cells": [
  {
   "cell_type": "markdown",
   "metadata": {},
   "source": [
    "# Machine Learning Pipeline with KubeDirector - Lab 1\n",
    "## Authenticate to Kubernetes cluster deployed on HPE Ezmeral Container Platform and fetch the kubeconfig file for your tenant"
   ]
  },
  {
   "cell_type": "markdown",
   "metadata": {},
   "source": [
    "### **Lab workflow:**\n",
    "\n",
    "In this lab:\n",
    "\n",
    "1. As tenant user, you will first establish a valid login session with HPE Ezmeral Container Platform (HPE ECP) using a REST API call.\n",
    "\n",
    "2. You will then fetch the *kubeconfig* file for your tenant working context using a subsequent HPE ECP REST API.\n",
    ">Note: A kubeconfig file is used to access the Kubernetes cluster for your tenant working context.\n",
    "\n",
    "\n",
    "**Recommended workshop and blogs about HPE Ezmeral Container Platform REST API:**\n",
    "- Workshop: [Intro to the HPE Ezmeral Container Platform REST API](https://hackshack.hpedev.io/workshops) \n",
    "- Blog: [HPE Ezmeral Container Platform REST API Part 1 - Authenticating](https://developer.hpe.com/blog/hpe-container-platform-rest-api-part-1-authenticating)\n",
    "- Blog: [HPE Ezmeral Container Platform REST API Part 2 - Deploying containerized applications](https://developer.hpe.com/blog/hpe-container-platform-rest-api-part-2-deploying-containerized-applicati)\n",
    "\n",
    "\n",
    "**Definitions:**\n",
    "\n",
    "- *HPE Ezmeral Container Platform* is an enterprise-grade container platform designed to deploy both cloud-native and non-cloud-native applications whether they are on-premises, at the edge, in multiple public clouds, or in a hybrid model. This makes the HPE Ezmeral Container Platform ideal for helping enterprise customers accelerate their application development and deployment via **containers** on-demand through a self-service portal and a RESTful API that surfaces programmable access. To learn more about HPE Ezmeral Container Platform, visit the [HPE DEV portal](https://developer.hpe.com/platform/hpe-ezmeral-container-platform/home) and check out the blog articles.\n",
    "\n",
    "- *tenant:* A tenant is a group of users created by the platform administrator. A tenant can represent, for example, an office location, a business unit, an organization, or a project. A tenant is allocated a quota of resources (CPU, GPU, memory, storage, and Kubernetes clusters resources) by the platform administrator. All the resources used by a tenant are not shared with other tenants. The tenant serves as a Kubernetes namespace.\n",
    "\n",
    "- *Working tenant context:* A working tenant context establishes the user identity, its tenant name and tenant role (member or admin). Based on this context, tenant users are granted privileges and permissions to create and manage resources for their tenant on Kubernetes clusters managed by HPE ECP."
   ]
  },
  {
   "cell_type": "markdown",
   "metadata": {},
   "source": [
    "#### Initialize the environment:\n",
    "\n",
    "Let's first define the environment variables according to your HPE Ezmeral Container Platform user account and tenant name, and the HPE Ezmeral Container Platform API system endpoint.\n",
    "\n",
    "**Make sure the password is set to the password you received in the registraton e-mail**"
   ]
  },
  {
   "cell_type": "code",
   "execution_count": 1,
   "metadata": {},
   "outputs": [
    {
     "name": "stdout",
     "output_type": "stream",
     "text": [
      "your operation context is: student74 on tenant K8sMLTenant\n",
      "your REST API endpoint is: hpecpgw1.hp.local:8080\n"
     ]
    }
   ],
   "source": [
    "#\n",
    "# environment variables to be verified by the student\n",
    "#\n",
    "studentId=\"student{{ STDID }}\" # your Jupyter Notebook student Identifier (i.e.: student<xx>)\n",
    "username=\"student{{ STDID }}\" # your HPE ECP tenant login credentials - username \n",
    "password=\"{{ PASSSTU }}\" # your HPE ECP tenant login credentials - password - Please replace with password provided in your registration\n",
    "\n",
    "studentId=\"student74\"\n",
    "username=\"student74\"\n",
    "password=\"stuDISCO2020\"\n",
    "#\n",
    "# fixed environment variables setup by the HPE ECP lab administrator - Please DO NOT MODIFY!!\n",
    "#\n",
    "gateway_host=\"{{ HPEECPGWNAME }}\"\n",
    "controller_endpoint=\"${gateway_host}:8080\"\n",
    "\n",
    "gateway_host=\"hpecpgw1.hp.local\"\n",
    "controller_endpoint=\"${gateway_host}:8080\"\n",
    "\n",
    "tenantname=\"K8sMLTenant\" #case sensitive\n",
    "\n",
    "echo \"your operation context is:\" $username \"on tenant\" $tenantname \n",
    "echo \"your REST API endpoint is:\" $controller_endpoint"
   ]
  },
  {
   "cell_type": "markdown",
   "metadata": {},
   "source": [
    "#### Authenticate as a tenant user in the specified tenant:\n",
    "\n",
    "> Note:  When you see a [*] next to the next action it means your execution step is busy working within the notebook.\n",
    "\n",
    ">Note: Notice that the session location token will remain valid for 1440 minutes (or 24 hours), after which time you will have to establish a new login session."
   ]
  },
  {
   "cell_type": "code",
   "execution_count": 2,
   "metadata": {},
   "outputs": [
    {
     "name": "stdout",
     "output_type": "stream",
     "text": [
      "This is your session location:  /api/v2/session/57b9657a-1b3b-496f-b986-612d36ff046b\n",
      "This is your session_Id: 57b9657a-1b3b-496f-b986-612d36ff046b\n"
     ]
    }
   ],
   "source": [
    "sessionlocation=$(curl -k -i -s --request POST \"https://${controller_endpoint}/api/v2/session\" \\\n",
    "--header 'Accept: application/json' \\\n",
    "--header 'Content-Type: application/json' \\\n",
    "--data-raw '{\n",
    "\"name\": \"'\"$username\"'\",\n",
    "\"password\": \"'\"$password\"'\",\n",
    "\"tenant_name\": \"'\"$tenantname\"'\"\n",
    "}' | grep Location | awk '{print $2}' | tr -d '\\r') #we remove any cr that might exist\n",
    "echo \"This is your session location: \" $sessionlocation\n",
    "SessionId=$(echo $sessionlocation | cut -d'/' -f 5) # extract sessionId for later, for logout\n",
    "echo \"This is your session_Id:\" $SessionId"
   ]
  },
  {
   "cell_type": "markdown",
   "metadata": {},
   "source": [
    "#### Get the Kubeconfig file for your tenant working context:\n",
    "The next step in deploying a containerized application in Kubernetes clusters managed by the HPE Ezmeral Container Platform is to get the kubeconfig file for your tenant working context. \n",
    "\n",
    "The HPE ECP REST API call below allows you to get the **kubeconfig file** used to access the Kubernetes cluster for your tenant user account based on your assigned role (tenant member) with the same result as if you had downloaded it from the HPE ECP UI."
   ]
  },
  {
   "cell_type": "code",
   "execution_count": 3,
   "metadata": {},
   "outputs": [
    {
     "name": "stdout",
     "output_type": "stream",
     "text": [
      "cache  config\n"
     ]
    }
   ],
   "source": [
    "mkdir -p ~/.kube\n",
    "ls ~/.kube"
   ]
  },
  {
   "cell_type": "code",
   "execution_count": 4,
   "metadata": {},
   "outputs": [],
   "source": [
    "rm -f ~/.kube/config\n",
    "curl -k -s --request GET \"https://${controller_endpoint}/api/v2/k8skubeconfig\" \\\n",
    "--header \"X-BDS-SESSION: $sessionlocation\" \\\n",
    "--header 'Accept: application/json' \\\n",
    "--header 'Content-Type: application/json' > ~/.kube/config"
   ]
  },
  {
   "cell_type": "markdown",
   "metadata": {},
   "source": [
    "#### Check your working tenant context:"
   ]
  },
  {
   "cell_type": "code",
   "execution_count": 5,
   "metadata": {},
   "outputs": [
    {
     "name": "stdout",
     "output_type": "stream",
     "text": [
      "apiVersion: v1\n",
      "clusters:\n",
      "- cluster:\n",
      "    insecure-skip-tls-verify: true\n",
      "    server: https://hpecpgw1.hp.local:9500\n",
      "  name: k8scluster1\n",
      "- cluster:\n",
      "    insecure-skip-tls-verify: true\n",
      "    server: https://hpecpgw1.hp.local:9501\n",
      "  name: k8scluster2\n",
      "contexts:\n",
      "- context:\n",
      "    cluster: k8scluster1\n",
      "    namespace: k8shacktenant\n",
      "    user: HPECP-student74\n",
      "  name: k8scluster1-K8sHackTenant-student74\n",
      "- context:\n",
      "    cluster: k8scluster2\n",
      "    namespace: k8smltenant\n",
      "    user: HPECP-student74\n",
      "  name: k8scluster2-K8sMLTenant-student74\n",
      "current-context: k8scluster2-K8sMLTenant-student74\n",
      "kind: Config\n",
      "preferences: {}\n",
      "users:\n",
      "- name: HPECP-student74\n",
      "  user:\n",
      "    exec:\n",
      "      apiVersion: client.authentication.k8s.io/v1beta1\n",
      "      args:\n",
      "      - hpecp\n",
      "      - authenticate\n",
      "      - hpecpgw1.hp.local:8080\n",
      "      - --hpecp-user=student74\n",
      "      - --hpecp-token=/api/v2/session/57b9657a-1b3b-496f-b986-612d36ff046b\n",
      "      - --hpecp-token-expiry=1608229303\n",
      "      - --force-reauth=false\n",
      "      - --insecure-skip-tls-verify=true\n",
      "      command: kubectl\n",
      "      env: null\n",
      "      provideClusterInfo: false\n"
     ]
    }
   ],
   "source": [
    "kubectl config view"
   ]
  },
  {
   "cell_type": "markdown",
   "metadata": {},
   "source": [
    "> Notice the kubeconfig file includes the valid token (session location) for the current session you previously established."
   ]
  },
  {
   "cell_type": "code",
   "execution_count": 6,
   "metadata": {},
   "outputs": [
    {
     "name": "stdout",
     "output_type": "stream",
     "text": [
      "k8scluster2-K8sMLTenant-student74\n"
     ]
    }
   ],
   "source": [
    "kubectl config current-context"
   ]
  },
  {
   "cell_type": "markdown",
   "metadata": {},
   "source": [
    "You can now send Kubernetes API requests using a K8s API client such as **kubectl** to set up a Machine Learning (ML) pipeline using KubeDirector and train, register, and query your model.\n",
    "\n",
    "\n",
    "**Let's see this in action!**\n",
    "* [Lab2 - Deploy Local Jupyter Notebook Cluster](2-WKSHP-K8s-ML-Pipeline-Deploy-Local-Notebook.ipynb)"
   ]
  }
 ],
 "metadata": {
  "kernelspec": {
   "display_name": "Bash",
   "language": "bash",
   "name": "bash"
  },
  "language_info": {
   "codemirror_mode": "shell",
   "file_extension": ".sh",
   "mimetype": "text/x-sh",
   "name": "bash"
  }
 },
 "nbformat": 4,
 "nbformat_minor": 4
}
