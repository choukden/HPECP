{
 "cells": [
  {
   "cell_type": "markdown",
   "metadata": {},
   "source": [
    "# Machine Learning Pipeline with KubeDirector - Lab 2\n",
    "## Deploy a local Jupyter Notebook cluster to interact with a tenant-shared training cluster"
   ]
  },
  {
   "cell_type": "markdown",
   "metadata": {},
   "source": [
    "### **Lab workflow**\n",
    "\n",
    "In this lab:\n",
    "\n",
    "1. As tenant user, you will first create a local (lightweight) Jupyter Notebook application KubeDirector cluster to develop your model. You will attach your Jupyter Notebook cluster to a remote tenant-shared training cluster to train your model. The shared training cluster **training-engine-shared** includes the open source ML toolkits, libraries and frameworks for developing and training models. It has been already deployed by the tenant administrator for your tenant. The shared training cluster will allow you to train your model faster using more compute and memory resources than your local lightweight Jupyter Notebook cluster.\n",
    "\n",
    "2. You will then access your local Jupyter Notebook web UI via the gateway network service port to train your model to the remote tenant-shared training cluster. \n",
    "\n",
    "**Recommended blog reading:**\n",
    "\n",
    "* [Building Dynamic Machine Learning Pipelines with KubeDirector](https://developer.hpe.com/blog/building-dynamic-machine-learning-pipelines-with-kubedirector)\n",
    "\n",
    "**Definitions:**\n",
    "\n",
    "- *KubeDirector:* also known as Kubernetes Director. KubeDirector is an **open-source** project initiated and led by HPE that addresses stateful scaleout application deployment in standard Kubernetes clusters with a focus on non-cloud native stateful analytics workloads (AI/ML, data processing and Big Data apps). These applications are generally referred to as a distributed, single-node or multi-node application **virtual cluster** where each application virtual cluster node runs as **a container** in the Kubernetes cluster.\n",
    "\n",
    "- *Training:* Input datasets are processed to create a Machine Learning model. Data scientists can use a local Jupyter Notebook to build and train their models. They can also interact with a remote, larger capacity training cluster to train their models faster.\n",
    "\n",
    "- *Cloud native application:* Also known as the [12-Factor app](https://www.mirantis.com/blog/how-do-you-build-12-factor-apps-using-kubernetes/), a modern application that leverages a microservices architecture with loosely coupled services. The microservice architectural style is an approach to developing a single application as a suite of small independently deployed services.\n",
    "\n",
    "- *Non-cloud native application:* a multi-tier application with tightly coupled and interdependent services. \n",
    "\n",
    "- *Stateless application:* A stateless application is an application which does not require persistence of data nor an application state.\n",
    "\n",
    "- *Stateful application:* A stateful application typically requires persistence of certain mountpoints across application cluster nodes rescheduling, restarts, upgrades, rollbacks. A stateful application can also need persistence of network identity (i.e.: hostname). "
   ]
  },
  {
   "cell_type": "markdown",
   "metadata": {},
   "source": [
    "### **1- Initialize the environment**\n",
    "\n",
    "Let's first define the environment variables needed to execute this part of the lab."
   ]
  },
  {
   "cell_type": "code",
   "execution_count": 1,
   "metadata": {},
   "outputs": [
    {
     "name": "stdout",
     "output_type": "stream",
     "text": [
      "Your studentId is: student75\n"
     ]
    }
   ],
   "source": [
    "#\n",
    "# environment variables\n",
    "#\n",
    "studentId=\"student75\" # your Jupyter Notebook student Identifier (i.e.: student<xx>)\n",
    "\n",
    "#\n",
    "gateway_host=\"haecpgtw.etc.fr.comm.hpecorp.net\"\n",
    "Internet_access=\"notebooks.hpedev.io\"\n",
    "\n",
    "JupyterNotebookApp=\"cr-cluster-jupyter-notebook.yaml\" # the Jupyter Notebook KD App manifest you will deploy to build your model\n",
    "DeploymentEngineApp=\"cr-cluster-endpoint-wrapper.yaml\" # the Deployment engine KD App manifest you will deploy to query your model for answers\n",
    "\n",
    "echo \"Your studentId is: \"$studentId"
   ]
  },
  {
   "cell_type": "markdown",
   "metadata": {},
   "source": [
    "### **2- List the registered KubeDirector applications**\n",
    "You can get the list of KubeDirector applications (kdapp) registered with the Kubernetes cluster for your tenant using the `kubectl get kdapp` command. A KubeDirector application is a _template_ for the application. It describes an application's **metadata** (service roles, Docker images, configuration packages, services ports, persistent storage).\n",
    "In this workshop, you will be using the KubeDirector application _jupyter-notebook-v1_ to create your local Jupyter Notebook cluster."
   ]
  },
  {
   "cell_type": "code",
   "execution_count": 2,
   "metadata": {},
   "outputs": [
    {
     "name": "stdout",
     "output_type": "stream",
     "text": [
      "NAME                     AGE\n",
      "centos8x                 26d\n",
      "deployment-engine        26d\n",
      "jupyter-notebook         26d\n",
      "jupyter-notebook-v1      26d\n",
      "spark245                 26d\n",
      "tensorflow-gpu-jupyter   26d\n",
      "training-engine          26d\n",
      "ubuntu18x                26d\n"
     ]
    }
   ],
   "source": [
    "kubectl get kdapp"
   ]
  },
  {
   "cell_type": "markdown",
   "metadata": {},
   "source": [
    "List the instance of the training engine kdapp already deployed for your tenant by the lab administrator:"
   ]
  },
  {
   "cell_type": "code",
   "execution_count": 3,
   "metadata": {},
   "outputs": [
    {
     "name": "stdout",
     "output_type": "stream",
     "text": [
      "NAME                     AGE\n",
      "training-engine-shared   23d\n"
     ]
    }
   ],
   "source": [
    "kubectl get kdcluster training-engine-shared"
   ]
  },
  {
   "cell_type": "markdown",
   "metadata": {},
   "source": [
    "### **3- Deploying your local Jupyter Notebook cluster with _Connection_ to a remote tenant-shared training cluster**"
   ]
  },
  {
   "cell_type": "markdown",
   "metadata": {},
   "source": [
    "You will deploy an instance of the **jupyter-notebook-v1** kdapp by creating a KubeDirector virtual cluster (kdcluster). A kdcluster identifies the desired kdapp and specifies runtime configuration parameters, such as the size and resource requirements of the virtual cluster. \n",
    "\n",
    "> **Note:** _The Jupyter Notebook kdapp includes the open source machine learning toolkits, software libraries and frameworks for developing and training models such as TensorFlow, scikit-learn, keras, XGBoost, matplotlib, Jupyter Notebook, Numpy, Scipy, Pandas, etc._"
   ]
  },
  {
   "cell_type": "markdown",
   "metadata": {},
   "source": [
    "#### Create the manifest file and deploy an instance of the Jupyter Notebook KubeDirector application:\n",
    "Like any other containerized application deployment on Kubernetes, the `kubectl apply -f ManifestAppFile` command is used to deploy the kdcluster. The application manifest is a YAML file that describes the attributes of the KubeDirector virtual cluster.  \n",
    "\n",
    "> **Note:** _One of the most interesting parts of the kdcluster specification is the **Connections** stanza (a related group of attributes), which identifies other resources of interest to that kdcluster. Here, you simply connect your local Jupyter Notebook cluster to the tenant-shared training cluster **training-engine-shared** already deployed by the tenant administrator._"
   ]
  },
  {
   "cell_type": "code",
   "execution_count": 4,
   "metadata": {},
   "outputs": [
    {
     "name": "stdout",
     "output_type": "stream",
     "text": [
      "apiVersion: \"kubedirector.hpe.com/v1beta1\"\n",
      "kind: \"KubeDirectorCluster\"\n",
      "metadata:\n",
      "  name: \"jupyter-notebook-student75\"\n",
      "spec:\n",
      "  app: \"jupyter-notebook-v1\"\n",
      "  appCatalog: \"local\"\n",
      "  connections: \n",
      "    #secrets: \n",
      "      #- \n",
      "        #\"some secrets\"\n",
      "    #configmaps: \n",
      "      #- \n",
      "        #\"some configmaps\"\n",
      "    clusters: \n",
      "      - \"training-engine-shared\"\n",
      "        #\"some clusters\"\n",
      "  roles:\n",
      "  - id: controller\n",
      "    resources:\n",
      "      requests:\n",
      "        memory: \"2Gi\"\n",
      "        cpu: \"1\"\n",
      "      limits:\n",
      "        memory: \"2Gi\"\n",
      "        cpu: \"1\"\n"
     ]
    }
   ],
   "source": [
    "cat $JupyterNotebookApp"
   ]
  },
  {
   "cell_type": "code",
   "execution_count": 5,
   "metadata": {},
   "outputs": [
    {
     "name": "stdout",
     "output_type": "stream",
     "text": [
      "kubedirectorcluster.kubedirector.hpe.com/jupyter-notebook-student75 created\n"
     ]
    }
   ],
   "source": [
    "kubectl apply -f $JupyterNotebookApp"
   ]
  },
  {
   "cell_type": "markdown",
   "metadata": {},
   "source": [
    "After a few seconds, you should get the response message: *kubedirectorcluster/Your-instance-name created*.  "
   ]
  },
  {
   "cell_type": "markdown",
   "metadata": {},
   "source": [
    "### **4- Inspect the deployed KubeDirector Application instance**\n",
    "Your application will be represented in the Kubernetes cluster by a custom resource of type **KubeDirectorCluster (kdcluster)**, with the name that was indicated inside the YAML file used to create it. Use the command `kubectl get kdcluster YourClustername` to list your kdcluster."
   ]
  },
  {
   "cell_type": "code",
   "execution_count": 6,
   "metadata": {},
   "outputs": [
    {
     "name": "stdout",
     "output_type": "stream",
     "text": [
      "NAME                         AGE\n",
      "jupyter-notebook-student75   5s\n"
     ]
    }
   ],
   "source": [
    "clusterName=\"jupyter-notebook-${studentId}\"\n",
    "kubectl get kdcluster $clusterName"
   ]
  },
  {
   "cell_type": "markdown",
   "metadata": {},
   "source": [
    "After creating the instance of the KubeDirector application, you can use the `kubectl describe kdcluster` command below to observe its status and any events logged against it.\n",
    "\n",
    "The virtual cluster status indicates its overall \"state\" (top-level property of the status object). It should have a value of **\"configured\"**. \n",
    "\n",
    "> **Note:** _The first time a virtual cluster of a given KubeDirector application type is created, it may take several minutes to reach its **\"configured\"** state, as the relevant Docker image must be downloaded and imported._ "
   ]
  },
  {
   "cell_type": "markdown",
   "metadata": {},
   "source": [
    "**>Run the `kubectl describe` command below and scroll down to the `Events` section to check the overall state of your kdcluster.**\n",
    "\n",
    "**>Regularly repeat (every minute or so) the command below until the kdcluster is in the state \"_configured_\".**"
   ]
  },
  {
   "cell_type": "code",
   "execution_count": 8,
   "metadata": {},
   "outputs": [
    {
     "name": "stdout",
     "output_type": "stream",
     "text": [
      "Name:         jupyter-notebook-student75\n",
      "Namespace:    k8smltenant\n",
      "Labels:       <none>\n",
      "Annotations:  <none>\n",
      "API Version:  kubedirector.hpe.com/v1beta1\n",
      "Kind:         KubeDirectorCluster\n",
      "Metadata:\n",
      "  Creation Timestamp:  2021-01-14T07:42:29Z\n",
      "  Finalizers:\n",
      "    kubedirector.hpe.com/cleanup\n",
      "  Generation:        1\n",
      "  Resource Version:  9242541\n",
      "  Self Link:         /apis/kubedirector.hpe.com/v1beta1/namespaces/k8smltenant/kubedirectorclusters/jupyter-notebook-student75\n",
      "  UID:               e43e3739-09d9-4ad8-80c0-232243a9f208\n",
      "Spec:\n",
      "  App:          jupyter-notebook-v1\n",
      "  App Catalog:  local\n",
      "  Connections:\n",
      "    Clusters:\n",
      "      training-engine-shared\n",
      "  Naming Scheme:  UID\n",
      "  Roles:\n",
      "    Id:       controller\n",
      "    Members:  1\n",
      "    Resources:\n",
      "      Limits:\n",
      "        Cpu:     1\n",
      "        Memory:  2Gi\n",
      "      Requests:\n",
      "        Cpu:     1\n",
      "        Memory:  2Gi\n",
      "  Service Type:  NodePort\n",
      "Status:\n",
      "  Cluster Service:       kdhs-qrjqc\n",
      "  Generation UID:        070478e0-9c89-4c70-8310-56861cdc2748\n",
      "  Last Connection Hash:  4460c69178ccca0aad5466f0835041e6\n",
      "  Last Node ID:          1\n",
      "  Member State Rollup:\n",
      "    Config Errors:         false\n",
      "    Members Down:          false\n",
      "    Members Initializing:  false\n",
      "    Members Restarting:    false\n",
      "    Members Waiting:       false\n",
      "    Membership Changing:   false\n",
      "  Roles:\n",
      "    Id:  controller\n",
      "    Members:\n",
      "      Auth Token:  253fa255428af14a7b4b1075c93760c4\n",
      "      Node ID:     1\n",
      "      Pod:         kdss-dzkdh-0\n",
      "      Service:     s-kdss-dzkdh-0\n",
      "      State:       configured\n",
      "      State Detail:\n",
      "        Last Config Data Generation:  1\n",
      "        Last Configured Container:    docker://6a20202a83109648bbc8e30afadc522c4c90686aadac627a92c5562f386e07b7\n",
      "        Last Connection Version:      0\n",
      "        Last Known Container State:   running\n",
      "        Last Setup Generation:        1\n",
      "    Stateful Set:                     kdss-dzkdh\n",
      "  Spec Generation To Process:         1\n",
      "  State:                              configured\n",
      "Events:\n",
      "  Type    Reason   Age   From          Message\n",
      "  ----    ------   ----  ----          -------\n",
      "  Normal  Cluster  77s   kubedirector  new\n",
      "  Normal  Role     77s   kubedirector  creating role{controller}\n",
      "  Normal  Cluster  77s   kubedirector  Annotation initialized to 1\n",
      "  Normal  Role     77s   kubedirector  changing replicas count for role{controller}: 0 -> 1\n",
      "  Normal  Role     77s   kubedirector  waiting for replicas count for role{controller}: 0 -> 1\n",
      "  Normal  Member   33s   kubedirector  initial config ongoing for member{kdss-dzkdh-0} in role{controller}\n",
      "  Normal  Member   33s   kubedirector  initial config done for member{kdss-dzkdh-0} in role{controller}\n",
      "  Normal  Cluster  33s   kubedirector  stable\n"
     ]
    }
   ],
   "source": [
    "kubectl describe kdcluster $clusterName"
   ]
  },
  {
   "cell_type": "markdown",
   "metadata": {},
   "source": [
    "You can use a form of the `kubectl get all` command that matches against a value of the **kubedirector.hpe.com/kdcluster=YourClusterApplicationName** label to observe the standard Kubernetes resources that compose the application virtual cluster:"
   ]
  },
  {
   "cell_type": "code",
   "execution_count": 9,
   "metadata": {},
   "outputs": [
    {
     "name": "stdout",
     "output_type": "stream",
     "text": [
      "NAME               READY   STATUS    RESTARTS   AGE\n",
      "pod/kdss-dzkdh-0   1/1     Running   0          84s\n",
      "\n",
      "NAME                     TYPE        CLUSTER-IP      EXTERNAL-IP   PORT(S)                       AGE\n",
      "service/kdhs-qrjqc       ClusterIP   None            <none>        8888/TCP                      84s\n",
      "service/s-kdss-dzkdh-0   NodePort    10.110.58.105   <none>        22:30618/TCP,8888:30028/TCP   84s\n",
      "\n",
      "NAME                          READY   AGE\n",
      "statefulset.apps/kdss-dzkdh   1/1     84s\n"
     ]
    }
   ],
   "source": [
    "kubectl get all -l kubedirector.hpe.com/kdcluster=$clusterName"
   ]
  },
  {
   "cell_type": "markdown",
   "metadata": {},
   "source": [
    "Your instance of the KubeDirector Application virtual cluster is made up of a **StatefulSet**, a **POD** (a cluster node) and a **NodePort Service** per service role member (Controller), and a **headless service** for the application cluster.   \n",
    "\n",
    "* The ClusterIP service is the headless service required by a Kubernetes StatefulSet to work. It maintains a stable POD network identity (i.e.: persistence of the hostname of the PODs across PODs rescheduling).\n",
    "* The NodePort service exposes the Notebook application service with token-based authorization outside the Kubernetes cluster. "
   ]
  },
  {
   "cell_type": "markdown",
   "metadata": {},
   "source": [
    "### **5- Get your local Jupyter Notebook's service endpoint and the authentication password to connect to it**\n",
    "To get a report on all services related to a specific virtual KubeDirector cluster, you can use a form of **kubectl describe** that matches against a value of the **kubedirector.hpe.com/kdcluster=YourClusterApplicationName** label."
   ]
  },
  {
   "cell_type": "code",
   "execution_count": 10,
   "metadata": {},
   "outputs": [
    {
     "name": "stdout",
     "output_type": "stream",
     "text": [
      "Your application service endpoint re-mapped port is: 10047\n",
      "Your Jupyter Notebook service endpoint URL is: https://notebooks.hpedev.io:10047\n",
      "Your Jupyter Notebook service authentication password is: 253fa255428af14a7b4b1075c93760c4\n"
     ]
    }
   ],
   "source": [
    "#\n",
    "# Getting the service endpoint URL:\n",
    "#\n",
    "JupyterAppURL=$(kubectl describe service -l  kubedirector.hpe.com/kdcluster=${clusterName} | grep gateway/8888 | awk '{print $2}')\n",
    "JupyterAppPort=$(echo $JupyterAppURL | cut -d':' -f 2) # extract the gateway re-mapped port value.\n",
    "myJupyterApp_endpoint=\"https://$gateway_host:$JupyterAppPort\"\n",
    "echo \"Your application service endpoint re-mapped port is: \"$JupyterAppPort\n",
    "#echo \"Your Intranet application service endpoint is: \"$myJupyterApp_endpoint\n",
    "echo \"Your Jupyter Notebook service endpoint URL is: https://\"$Internet_access:$JupyterAppPort\n",
    "#\n",
    "# Getting the auth-token:\n",
    "#\n",
    "JupyterAuthToken=$(kubectl describe service -l  kubedirector.hpe.com/kdcluster=${clusterName} | grep kd-auth-token | awk '{print $2}')\n",
    "echo \"Your Jupyter Notebook service authentication password is: \"$JupyterAuthToken"
   ]
  },
  {
   "cell_type": "markdown",
   "metadata": {},
   "source": [
    "### **6- Download the python code files to your PC/laptop**\n",
    "\n",
    "Download the files below on your local PC/laptop. You will use these files in the next part of the lab from your local Jupyter Notebook cluster you have just created.\n",
    "\n",
    "- _**3-WKSHP-K8s-ML-Pipeline-Model-Training.ipynb**_\n",
    "- _**XGB_Scoring.py**_\n",
    "- _**XGB_Scoringv2.py**_\n",
    "- _**ML-Workflow.jpg**_\n",
    "\n",
    "From the left side panel of your JupyterHub account, navigate to **Code/NYCTaxi** folder: double-click on the folder **Code**, then the folder **NYCTaxi**. Right-click on each file (or select all the files then right-click) and choose **Download**.\n",
    "\n",
    "You can click the ellipsis **(...)** to go back to the root of your repository in JupyterHub."
   ]
  },
  {
   "cell_type": "markdown",
   "metadata": {},
   "source": [
    "## **7- Connect to your local Jupyter Notebook web UI and upload code files**\n",
    "Click the service endpoint URL from Step 5 above to connect to your Jupyter Notebook server.\n",
    "This opens a Jupyter Notebook login screen in a new browser tab. Login with the authentication password above (copy/paste the authentication password value above) and follow instructions below to upload the code files from your local PC/laptop to your local Jupyter Notebook server.\n",
    "\n",
    "![Jupyter-Notebook-Login](Pictures/Jupyter-Notebook-Login.png)"
   ]
  },
  {
   "cell_type": "markdown",
   "metadata": {},
   "source": [
    "Click on **Upload** button on the top right of your local Jupyter Notebook server.\n",
    "\n",
    "![Jupyter-Notebook-Upload](Pictures/Jupyter-Notebook-Upload.png)"
   ]
  },
  {
   "cell_type": "markdown",
   "metadata": {},
   "source": [
    "Select the Lab 3 python code file **3-WKSHP-K8s-ML-Pipeline-Model-Training.ipynb** from your laptop downloaded at the beginning of this lab, and click on **Upload** button as shown here:\n",
    "\n",
    "![Lab3 code upload](Pictures/Jupyter-Notebook-Upload-file.png)\n",
    "\n",
    ">**Note:** <font color=\"red\">The upload operation may get stuck. If this is the case, refresh your browser tab (CTRL/F5) and repeat the upload operation.</font>"
   ]
  },
  {
   "cell_type": "markdown",
   "metadata": {},
   "source": [
    "Repeat the same steps to upload the files **XGB_Scoring.py**, **XGB_Scoringv2.py** and **ML-Workflow.jpg** from your laptop downloaded at the beginning of this lab."
   ]
  },
  {
   "cell_type": "markdown",
   "metadata": {},
   "source": [
    "### <font color=\"red\">Now, from your local Jupyter Notebook, open the notebook **3-WKSHP-K8s-ML-Pipeline-Model-Training.ipynb** and follow the instructions from the notebook to build, train and test the model.</font>\n",
    "\n",
    "Once your model is trained and saved to a file, follow the instructions in Lab 4 to deploy your trained model:\n",
    "\n",
    "* [Lab 4 Model Registry and Deployment](4-WKSHP-K8s-ML-Pipeline-Register-Model-Deployment.ipynb)"
   ]
  },
  {
   "cell_type": "markdown",
   "metadata": {},
   "source": [
    "## Summary\n",
    "\n",
    "In this lab, we have shown you how you can deploy a local Jupyter Notebook virtual cluster and attach it to a shared distributed training cluster using _**Connections**_ stanza in a KubeDirector Cluster manifest YAML file. This local Jupyter Notebook will be used in the next lab to do model training on the tenant-shared training cluster."
   ]
  }
 ],
 "metadata": {
  "kernelspec": {
   "display_name": "Bash",
   "language": "bash",
   "name": "bash"
  },
  "language_info": {
   "codemirror_mode": "shell",
   "file_extension": ".sh",
   "mimetype": "text/x-sh",
   "name": "bash"
  }
 },
 "nbformat": 4,
 "nbformat_minor": 4
}
