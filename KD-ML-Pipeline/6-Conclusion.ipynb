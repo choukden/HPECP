{
 "cells": [
  {
   "cell_type": "markdown",
   "metadata": {},
   "source": [
    "![HPEDEVLogo](Pictures/hpe-dev-logo.png)\n",
    "\n",
    "# Thank you for visiting the Hack Shack\n",
    "\n",
    "Powered by [HPE DEV Team](hpedev.io)\n",
    "\n",
    "# Conclusion\n",
    "\n",
    "**Congratulations!**\n",
    "\n",
    "You have completed the steps to implement an end-to-end Machine Learning pipeline, from data preparation to model deployment, using a CNCF-certified Kubernetes cluster managed by **HPE Ezmeral Container Platform (HPE ECP)** and another Open Source application called **KubeDirector**. You learned how to construct **dynamic** ML pipelines by chaining together multiple KubeDirector application clusters using the _Connections_ capability of KubeDirector. You explored how to use key elements of KubeDirector such as _KubeDirector Applications, KubeDirector Clusters and Connections_ to standarize the deployment of ML models on Kubernetes. The Open Source KubeDirector combined with Kubernetes cluster managed by HPE Ezmeral Container Platform allows data scientists to quickly spin up, **on-demand**, their development environments, develop their models, train their models against enterprise production data, and then push those models and the production code into a runtime to serve predictions."
   ]
  },
  {
   "cell_type": "markdown",
   "metadata": {},
   "source": [
    "# Learn More\n",
    "\n",
    "To learn more about KubeDirector, check out these community blogs and videos\n",
    "\n",
    "* [Building Dynamic Machine Learning Pipelines with KubeDirector - blog](https://developer.hpe.com/blog/building-dynamic-machine-learning-pipelines-with-kubedirector) and [Video](https://www.youtube.com/watch?v=zjkx4Banyos&feature=youtu.be)\n",
    "* [HPE Ezmeral Container Platform REST API Part 1 - Authenticating](https://developer.hpe.com/blog/hpe-container-platform-rest-api-part-1-authenticating)\n",
    "* [HPE Ezmeral Container Platform REST API Part 2 - Deploying containerized applications](https://developer.hpe.com/blog/hpe-container-platform-rest-api-part-2-deploying-containerized-applicati)"
   ]
  },
  {
   "cell_type": "markdown",
   "metadata": {},
   "source": [
    "# Final step\n",
    "\n",
    "### Please take a moment to fill out our [survey](https://forms.office.com/Pages/ResponsePage.aspx?id=YSBbEGm2MUuSrCTTBNGV3KHzFdd987lBoQATWJq45DdUN0hWUTIzN1JKWExPUEpGSUhYQzVIRjNQVy4u) so we can ensure future workshops meet your needs.\n",
    "\n",
    "### And make sure you use `File->Log Out` to terminate your workshop session.\n",
    "\n",
    "### You can join the HPE DEV Community by [signing up](https://developer.hpe.com/newsletter-signup) to the HPE DEV Newsletter \n",
    "\n",
    "### Learn more about the HPE DEV Community\n",
    "![QRCode](Pictures/QRCode-HPEDEV.png)\n",
    "  "
   ]
  },
  {
   "cell_type": "markdown",
   "metadata": {},
   "source": [
    "# Thank you\n",
    "![ThankYou](Pictures/grommet.jpg)"
   ]
  }
 ],
 "metadata": {
  "kernelspec": {
   "display_name": "Bash",
   "language": "bash",
   "name": "bash"
  },
  "language_info": {
   "codemirror_mode": "shell",
   "file_extension": ".sh",
   "mimetype": "text/x-sh",
   "name": "bash"
  }
 },
 "nbformat": 4,
 "nbformat_minor": 4
}
